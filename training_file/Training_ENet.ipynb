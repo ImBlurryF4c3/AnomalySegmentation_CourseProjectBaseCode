{
  "nbformat": 4,
  "nbformat_minor": 0,
  "metadata": {
    "colab": {
      "provenance": [],
      "gpuType": "T4",
      "include_colab_link": true
    },
    "kernelspec": {
      "name": "python3",
      "display_name": "Python 3"
    },
    "language_info": {
      "name": "python"
    },
    "accelerator": "GPU"
  },
  "cells": [
    {
      "cell_type": "markdown",
      "metadata": {
        "id": "view-in-github",
        "colab_type": "text"
      },
      "source": [
        "<a href=\"https://colab.research.google.com/github/ImBlurryF4c3/AnomalySegmentation_CourseProjectBaseCode/blob/fede/Training_ENet.ipynb\" target=\"_parent\"><img src=\"https://colab.research.google.com/assets/colab-badge.svg\" alt=\"Open In Colab\"/></a>"
      ]
    },
    {
      "cell_type": "code",
      "execution_count": null,
      "metadata": {
        "id": "Z4lDGtuBfbLN"
      },
      "outputs": [],
      "source": [
        "!git clone https://github.com/federicamato00/PyTorch-ENet-Training.git\n",
        "\n",
        "\n"
      ]
    },
    {
      "cell_type": "code",
      "source": [
        "%cd /content/PyTorch-ENet-Training/data\n",
        "#Download Cityscapes Dataset\n",
        "!python -m pip install cityscapesscripts\n",
        "!csDownload leftImg8bit_trainvaltest.zip\n",
        "!csDownload gtFine_trainvaltest.zip\n",
        "%mkdir /content/PyTorch-ENet-Training/data/Cityscapes/\n",
        "%cd /content/PyTorch-ENet-Training/data\n",
        "\n",
        "\n",
        "!unzip leftImg8bit_trainvaltest.zip -d /content/PyTorch-ENet-Training/data/Cityscapes/\n",
        "!unzip gtFine_trainvaltest.zip -d /content/PyTorch-ENet-Training/data/Cityscapes/"
      ],
      "metadata": {
        "id": "dBzqdW47fgao"
      },
      "execution_count": null,
      "outputs": []
    },
    {
      "cell_type": "code",
      "source": [
        "%cd /content/PyTorch-ENet-Training/data/Cityscapes\n",
        "!CITYSCAPES_DATASET='.' csCreateTrainIdLabelImgs\n",
        "%cd /content/PyTorch-ENet-Training\n",
        "!pip install visdom\n",
        "%mkdir /content/PyTorch-ENet-Training/save/final_model"
      ],
      "metadata": {
        "id": "MgMBfIRkfpxg"
      },
      "execution_count": null,
      "outputs": []
    },
    {
      "cell_type": "code",
      "source": [
        "#################Training####################\n",
        "%cd /content/PyTorch-ENet-Training\n",
        "\n",
        "!python main.py -m train --save-dir /content/PyTorch-ENet-Training/save/final_model/ --name ENet --dataset cityscapes --dataset-dir /content/PyTorch-ENet-Training/data/Cityscapes/ --with-unlabeled --epochs 25 --batch-size 30\n",
        "\n"
      ],
      "metadata": {
        "id": "XCqicqjcfsWp"
      },
      "execution_count": null,
      "outputs": []
    }
  ]
}