{
  "nbformat": 4,
  "nbformat_minor": 0,
  "metadata": {
    "colab": {
      "provenance": [],
      "authorship_tag": "ABX9TyPctiF65vOfMeDKDBTnuui6",
      "include_colab_link": true
    },
    "kernelspec": {
      "name": "python3",
      "display_name": "Python 3"
    },
    "language_info": {
      "name": "python"
    }
  },
  "cells": [
    {
      "cell_type": "markdown",
      "metadata": {
        "id": "view-in-github",
        "colab_type": "text"
      },
      "source": [
        "<a href=\"https://colab.research.google.com/github/ImBlurryF4c3/AnomalySegmentation_CourseProjectBaseCode/blob/fede/Project_TrainingERFNet.ipynb\" target=\"_parent\"><img src=\"https://colab.research.google.com/assets/colab-badge.svg\" alt=\"Open In Colab\"/></a>"
      ]
    },
    {
      "cell_type": "code",
      "execution_count": null,
      "metadata": {
        "id": "Zsi-7tjRFmZi"
      },
      "outputs": [],
      "source": [
        "!git clone https://github.com/ImBlurryF4c3/AnomalySegmentation_CourseProjectBaseCode.git\n",
        "%cd AnomalySegmentation_CourseProjectBaseCode\n",
        "!pip install visdom\n",
        "%mkdir Cityscapes_training\n",
        "%cd /content/AnomalySegmentation_CourseProjectBaseCode/Cityscapes_training\n",
        " #Download Cityscapes Dataset\n",
        "!python -m pip install cityscapesscripts\n",
        "!csDownload leftImg8bit_trainvaltest.zip\n",
        "!csDownload gtFine_trainvaltest.zip\n",
        "\n",
        "!unzip leftImg8bit_trainvaltest.zip\n",
        "!unzip gtFine_trainvaltest.zip\n",
        "%cd /content/AnomalySegmentation_CourseProjectBaseCode/Cityscapes_training\n",
        "!CITYSCAPES_DATASET='.' csCreateTrainIdLabelImgs"
      ]
    },
    {
      "cell_type": "markdown",
      "source": [
        "# TRAINING ERFNET"
      ],
      "metadata": {
        "id": "rG5aRhgLF3nW"
      }
    },
    {
      "cell_type": "code",
      "source": [
        "# Training erfnet cross entropy\n",
        "%cd /content/AnomalySegmentation_CourseProjectBaseCode/train\n",
        "!python main.py  --resume --savedir cross_entropy --datadir /content/AnomalySegmentation_CourseProjectBaseCode/Cityscapes_training --num-epochs 160 --batch-size 6 --lossfunction cross_entropy --onlyone True\n"
      ],
      "metadata": {
        "id": "rMNJYJ2sF3OS"
      },
      "execution_count": null,
      "outputs": []
    }
  ]
}