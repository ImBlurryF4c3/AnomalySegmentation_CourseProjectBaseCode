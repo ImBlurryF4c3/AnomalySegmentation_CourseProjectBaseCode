{
  "cells": [
    {
      "cell_type": "markdown",
      "metadata": {
        "id": "view-in-github",
        "colab_type": "text"
      },
      "source": [
        "<a href=\"https://colab.research.google.com/github/ImBlurryF4c3/AnomalySegmentation_CourseProjectBaseCode/blob/fede/Project_TrainingLoss.ipynb\" target=\"_parent\"><img src=\"https://colab.research.google.com/assets/colab-badge.svg\" alt=\"Open In Colab\"/></a>"
      ]
    },
    {
      "cell_type": "code",
      "execution_count": null,
      "metadata": {
        "id": "ie-yUdgofaIY"
      },
      "outputs": [],
      "source": [
        "!git clone https://github.com/ImBlurryF4c3/AnomalySegmentation_CourseProjectBaseCode.git\n",
        "%cd AnomalySegmentation_CourseProjectBaseCode\n"
      ]
    },
    {
      "cell_type": "code",
      "execution_count": null,
      "metadata": {
        "id": "hElHgibsiaFJ"
      },
      "outputs": [],
      "source": [
        "%cd /content/AnomalySegmentation_CourseProjectBaseCode/\n",
        "!pip install visdom"
      ]
    },
    {
      "cell_type": "code",
      "execution_count": null,
      "metadata": {
        "id": "q6Pu4KtRDyMI"
      },
      "outputs": [],
      "source": [
        "%mkdir Cityscapes_training\n",
        "%cd /content/AnomalySegmentation_CourseProjectBaseCode/Cityscapes_training"
      ]
    },
    {
      "cell_type": "code",
      "execution_count": null,
      "metadata": {
        "id": "-Icz1UFxluMj"
      },
      "outputs": [],
      "source": [
        "%cd /content/AnomalySegmentation_CourseProjectBaseCode/Cityscapes_training\n",
        " #Download Cityscapes Dataset\n",
        "!python -m pip install cityscapesscripts\n",
        "!csDownload leftImg8bit_trainvaltest.zip\n",
        "!csDownload gtFine_trainvaltest.zip\n",
        "\n",
        "!unzip leftImg8bit_trainvaltest.zip\n",
        "!unzip gtFine_trainvaltest.zip"
      ]
    },
    {
      "cell_type": "code",
      "execution_count": null,
      "metadata": {
        "id": "GhD3k6mrEq5_"
      },
      "outputs": [],
      "source": [
        "%cd /content/AnomalySegmentation_CourseProjectBaseCode/Cityscapes_training\n",
        "!CITYSCAPES_DATASET='.' csCreateTrainIdLabelImgs"
      ]
    },
    {
      "cell_type": "code",
      "execution_count": null,
      "metadata": {
        "id": "c4-5Fsomfzok"
      },
      "outputs": [],
      "source": [
        "# Training with logit normalization loss with cross_entropy\n",
        "%cd /content/AnomalySegmentation_CourseProjectBaseCode/train\n",
        "!python main.py  --savedir logit_norm_cross_entropy --datadir /content/AnomalySegmentation_CourseProjectBaseCode/Cityscapes_training --num-epochs 10 --batch-size 6 --lossfunction logit_norm --onlyone False\n"
      ]
    },
    {
      "cell_type": "code",
      "execution_count": null,
      "metadata": {
        "id": "Hoa7ltl2ItD9"
      },
      "outputs": [],
      "source": [
        "# Training with logit normalization loss with focal loss\n",
        "%cd /content/AnomalySegmentation_CourseProjectBaseCode/train\n",
        "!python main.py  --savedir logit_norm_with_focal_loss --datadir /content/AnomalySegmentation_CourseProjectBaseCode/Cityscapes_training --num-epochs 10 --batch-size 6 --lossfunction logit_norm --onlyone False --focal_loss True"
      ]
    },
    {
      "cell_type": "code",
      "execution_count": null,
      "metadata": {
        "id": "hJGeGj2eSCyt"
      },
      "outputs": [],
      "source": [
        "# Training with logit normalization loss\n",
        "%cd /content/AnomalySegmentation_CourseProjectBaseCode/train\n",
        "!python main.py  --savedir logit_norm --datadir /content/AnomalySegmentation_CourseProjectBaseCode/Cityscapes_training --num-epochs 10 --batch-size 6 --lossfunction logit_norm --onlyone True"
      ]
    },
    {
      "cell_type": "code",
      "execution_count": null,
      "metadata": {
        "colab": {
          "background_save": true
        },
        "id": "7HjLDRo2ysa-"
      },
      "outputs": [],
      "source": [
        "# Training with jaccard loss with focal loss\n",
        "%cd /content/AnomalySegmentation_CourseProjectBaseCode/train\n",
        "!python main.py  --savedir jacc_focal_loss --datadir /content/AnomalySegmentation_CourseProjectBaseCode/Cityscapes_training --num-epochs 10 --batch-size 6 --lossfunction jaccard_loss --onlyone False --focal_loss True"
      ]
    },
    {
      "cell_type": "code",
      "source": [
        "# Training with jacc loss with cross_entropy\n",
        "%cd /content/AnomalySegmentation_CourseProjectBaseCode/train\n",
        "!python main.py --savedir jacc_cross_entropy --datadir /content/AnomalySegmentation_CourseProjectBaseCode/Cityscapes_training --num-epochs 10 --batch-size 6 --lossfunction jaccard_loss --onlyone False\n"
      ],
      "metadata": {
        "id": "f_FZKTbxKZnI"
      },
      "execution_count": null,
      "outputs": []
    },
    {
      "cell_type": "code",
      "source": [
        "# Training with jacc loss with cross_entropy\n",
        "%cd /content/AnomalySegmentation_CourseProjectBaseCode/train\n",
        "!python main.py  --savedir jacc --datadir /content/AnomalySegmentation_CourseProjectBaseCode/Cityscapes_training --num-epochs 10 --batch-size 6 --lossfunction jaccard_loss --onlyone True\n"
      ],
      "metadata": {
        "id": "lqLpIleqDYLo"
      },
      "execution_count": null,
      "outputs": []
    }
  ],
  "metadata": {
    "accelerator": "GPU",
    "colab": {
      "gpuType": "T4",
      "provenance": [],
      "include_colab_link": true
    },
    "kernelspec": {
      "display_name": "Python 3",
      "name": "python3"
    },
    "language_info": {
      "name": "python"
    }
  },
  "nbformat": 4,
  "nbformat_minor": 0
}