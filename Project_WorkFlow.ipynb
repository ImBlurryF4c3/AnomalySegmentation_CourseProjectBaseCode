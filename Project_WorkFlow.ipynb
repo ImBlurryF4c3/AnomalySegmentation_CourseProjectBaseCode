{
  "cells": [
    {
      "cell_type": "markdown",
      "metadata": {
        "id": "view-in-github",
        "colab_type": "text"
      },
      "source": [
        "<a href=\"https://colab.research.google.com/github/ImBlurryF4c3/AnomalySegmentation_CourseProjectBaseCode/blob/marco/Project_WorkFlow.ipynb\" target=\"_parent\"><img src=\"https://colab.research.google.com/assets/colab-badge.svg\" alt=\"Open In Colab\"/></a>"
      ]
    },
    {
      "cell_type": "code",
      "execution_count": null,
      "metadata": {
        "colab": {
          "base_uri": "https://localhost:8080/"
        },
        "id": "vkXgrpLM5QYL",
        "outputId": "a7b48a5c-55e9-4db3-e232-77823fca745d"
      },
      "outputs": [
        {
          "output_type": "stream",
          "name": "stdout",
          "text": [
            "Cloning into 'AnomalySegmentation_CourseProjectBaseCode'...\n",
            "warning: redirecting to https://github.com/ImBlurryF4c3/AnomalySegmentation_CourseProjectBaseCode.git/\n",
            "remote: Enumerating objects: 3648, done.\u001b[K\n",
            "remote: Counting objects: 100% (120/120), done.\u001b[K\n",
            "remote: Compressing objects: 100% (70/70), done.\u001b[K\n",
            "remote: Total 3648 (delta 66), reused 77 (delta 48), pack-reused 3528\u001b[K\n",
            "Receiving objects: 100% (3648/3648), 1.56 GiB | 15.72 MiB/s, done.\n",
            "Resolving deltas: 100% (579/579), done.\n",
            "Updating files: 100% (3507/3507), done.\n",
            "/content/AnomalySegmentation_CourseProjectBaseCode/Cityscapes\n",
            "Already on 'marco'\n",
            "Your branch is up to date with 'origin/marco'.\n"
          ]
        }
      ],
      "source": [
        "#Cloning repo\n",
        "#!rm -r /content/AnomalySegmentation_CourseProjectBaseCode/\n",
        "!git clone http://github.com/ImBlurryF4c3/AnomalySegmentation_CourseProjectBaseCode.git\n",
        "%cd /content/AnomalySegmentation_CourseProjectBaseCode/Cityscapes/\n",
        "!git checkout marco"
      ]
    },
    {
      "cell_type": "code",
      "execution_count": null,
      "metadata": {
        "id": "Q585eylx5QYN"
      },
      "outputs": [],
      "source": [
        "#Download Cityscapes Dataset\n",
        "!python -m pip install cityscapesscripts"
      ]
    },
    {
      "cell_type": "code",
      "execution_count": null,
      "metadata": {
        "id": "vrHO_bNw5QYN"
      },
      "outputs": [],
      "source": [
        "# Preparing Cityscapes Dataset (val)\n",
        "%cd /content/AnomalySegmentation_CourseProjectBaseCode/Cityscapes/\n",
        "!CITYSCAPES_DATASET='.' csCreateTrainIdLabelImgs"
      ]
    },
    {
      "cell_type": "code",
      "execution_count": null,
      "metadata": {
        "colab": {
          "base_uri": "https://localhost:8080/"
        },
        "id": "ge_KQoqux9F0",
        "outputId": "d2cb4ea7-b36c-4857-86e8-ac1dca802bda"
      },
      "outputs": [
        {
          "output_type": "stream",
          "name": "stdout",
          "text": [
            "/content/AnomalySegmentation_CourseProjectBaseCode/eval\n",
            "Requirement already satisfied: ood_metrics in /usr/local/lib/python3.10/dist-packages (1.1.2)\n",
            "Requirement already satisfied: matplotlib<4.0,>=3.0 in /usr/local/lib/python3.10/dist-packages (from ood_metrics) (3.7.1)\n",
            "Requirement already satisfied: numpy<2.0,>=1.22 in /usr/local/lib/python3.10/dist-packages (from ood_metrics) (1.23.5)\n",
            "Requirement already satisfied: scikit-learn<2.0,>=1.0 in /usr/local/lib/python3.10/dist-packages (from ood_metrics) (1.2.2)\n",
            "Requirement already satisfied: contourpy>=1.0.1 in /usr/local/lib/python3.10/dist-packages (from matplotlib<4.0,>=3.0->ood_metrics) (1.2.0)\n",
            "Requirement already satisfied: cycler>=0.10 in /usr/local/lib/python3.10/dist-packages (from matplotlib<4.0,>=3.0->ood_metrics) (0.12.1)\n",
            "Requirement already satisfied: fonttools>=4.22.0 in /usr/local/lib/python3.10/dist-packages (from matplotlib<4.0,>=3.0->ood_metrics) (4.48.1)\n",
            "Requirement already satisfied: kiwisolver>=1.0.1 in /usr/local/lib/python3.10/dist-packages (from matplotlib<4.0,>=3.0->ood_metrics) (1.4.5)\n",
            "Requirement already satisfied: packaging>=20.0 in /usr/local/lib/python3.10/dist-packages (from matplotlib<4.0,>=3.0->ood_metrics) (23.2)\n",
            "Requirement already satisfied: pillow>=6.2.0 in /usr/local/lib/python3.10/dist-packages (from matplotlib<4.0,>=3.0->ood_metrics) (9.4.0)\n",
            "Requirement already satisfied: pyparsing>=2.3.1 in /usr/local/lib/python3.10/dist-packages (from matplotlib<4.0,>=3.0->ood_metrics) (3.1.1)\n",
            "Requirement already satisfied: python-dateutil>=2.7 in /usr/local/lib/python3.10/dist-packages (from matplotlib<4.0,>=3.0->ood_metrics) (2.8.2)\n",
            "Requirement already satisfied: scipy>=1.3.2 in /usr/local/lib/python3.10/dist-packages (from scikit-learn<2.0,>=1.0->ood_metrics) (1.11.4)\n",
            "Requirement already satisfied: joblib>=1.1.1 in /usr/local/lib/python3.10/dist-packages (from scikit-learn<2.0,>=1.0->ood_metrics) (1.3.2)\n",
            "Requirement already satisfied: threadpoolctl>=2.0.0 in /usr/local/lib/python3.10/dist-packages (from scikit-learn<2.0,>=1.0->ood_metrics) (3.2.0)\n",
            "Requirement already satisfied: six>=1.5 in /usr/local/lib/python3.10/dist-packages (from python-dateutil>=2.7->matplotlib<4.0,>=3.0->ood_metrics) (1.16.0)\n"
          ]
        }
      ],
      "source": [
        "# Install required packages for evaluation (ood_metrics)\n",
        "%cd /content/AnomalySegmentation_CourseProjectBaseCode/eval\n",
        "!pip install ood_metrics"
      ]
    },
    {
      "cell_type": "code",
      "execution_count": null,
      "metadata": {
        "id": "Z26x6bPPypgy"
      },
      "outputs": [],
      "source": [
        "# mIoU eval on Cityscapes validation set (ERFNet)\n",
        "%cd /content/AnomalySegmentation_CourseProjectBaseCode/eval\n",
        "!python eval_iou.py --datadir /content/AnomalySegmentation_CourseProjectBaseCode/Cityscapes --subset val"
      ]
    },
    {
      "cell_type": "code",
      "execution_count": null,
      "metadata": {
        "id": "D_ZHmrJAHSYE",
        "colab": {
          "base_uri": "https://localhost:8080/"
        },
        "outputId": "1bc1a230-c7fd-4b6d-c551-4d3a5a9f19ad"
      },
      "outputs": [
        {
          "output_type": "stream",
          "name": "stdout",
          "text": [
            "/content/AnomalySegmentation_CourseProjectBaseCode/eval\n",
            "Loading model: ../trained_models/erfnet.py\n",
            "Loading weights: ../trained_models/erfnet_pretrained.pth\n",
            "Model and weights LOADED successfully\n",
            "AUPRC score: 23.885063073993116\n",
            "FPR@TPR95: 92.52972549132139\n",
            "Temperature : 1.0\n"
          ]
        }
      ],
      "source": [
        "# Inference on RoadAnomaly\n",
        "%cd /content/AnomalySegmentation_CourseProjectBaseCode/eval\n",
        "#!python evalAnomaly.py --input '/content/AnomalySegmentation_CourseProjectBaseCode/Validation_Dataset/FS_LostFound_full/images/*.png' --method msp\n",
        "#!python evalAnomaly.py --input '/content/AnomalySegmentation_CourseProjectBaseCode/Validation_Dataset/FS_LostFound_full/images/*.png' --method maxLogit\n",
        "!python evalAnomaly.py --input '/content/AnomalySegmentation_CourseProjectBaseCode/Validation_Dataset/FS_LostFound_full/images/*.png' --method maxEntr\n"
      ]
    },
    {
      "cell_type": "code",
      "source": [
        "# Inference on LostAndFound with Temperature\n",
        "%cd /content/AnomalySegmentation_CourseProjectBaseCode/eval\n",
        "#!python evalAnomaly.py --input '/content/AnomalySegmentation_CourseProjectBaseCode/Validation_Dataset/FS_LostFound_full/images/*.png' --method msp --temperature 0.5\n",
        "#!python evalAnomaly.py --input '/content/AnomalySegmentation_CourseProjectBaseCode/Validation_Dataset/FS_LostFound_full/images/*.png' --method msp --temperature 0.75\n",
        "!python evalAnomaly.py --input '/content/AnomalySegmentation_CourseProjectBaseCode/Validation_Dataset/FS_LostFound_full/images/*.png' --method msp --temperature 1.1"
      ],
      "metadata": {
        "colab": {
          "base_uri": "https://localhost:8080/"
        },
        "id": "rPJRDgHR4KyM",
        "outputId": "3349d46b-d047-453a-e093-053978a5f08e"
      },
      "execution_count": null,
      "outputs": [
        {
          "output_type": "stream",
          "name": "stdout",
          "text": [
            "/content/AnomalySegmentation_CourseProjectBaseCode/eval\n",
            "Loading model: ../trained_models/erfnet.py\n",
            "Loading weights: ../trained_models/erfnet_pretrained.pth\n",
            "Model and weights LOADED successfully\n",
            "AUPRC score: 22.772389191091772\n",
            "FPR@TPR95: 92.85303474701574\n",
            "Temperature : 1.1\n"
          ]
        }
      ]
    },
    {
      "cell_type": "code",
      "source": [
        "# Inference on LostAndFound with best temperature\n",
        "%cd /content/AnomalySegmentation_CourseProjectBaseCode/eval\n",
        "#!python evalAnomaly.py --input '/content/AnomalySegmentation_CourseProjectBaseCode/Validation_Dataset/FS_LostFound_full/images/*.png' --method msp --temperature 1.5\n",
        "#!python evalAnomaly.py --input '/content/AnomalySegmentation_CourseProjectBaseCode/Validation_Dataset/FS_LostFound_full/images/*.png' --method msp --temperature 1.25\n",
        "#!python evalAnomaly.py --input '/content/AnomalySegmentation_CourseProjectBaseCode/Validation_Dataset/FS_LostFound_full/images/*.png' --method msp --temperature 1.75\n",
        "#!python evalAnomaly.py --input '/content/AnomalySegmentation_CourseProjectBaseCode/Validation_Dataset/FS_LostFound_full/images/*.png' --method msp --temperature 2.0\n",
        "#!python evalAnomaly.py --input '/content/AnomalySegmentation_CourseProjectBaseCode/Validation_Dataset/FS_LostFound_full/images/*.png' --method msp --temperature 2.25\n",
        "#!python evalAnomaly.py --input '/content/AnomalySegmentation_CourseProjectBaseCode/Validation_Dataset/FS_LostFound_full/images/*.png' --method msp --temperature 2.5\n",
        "!python evalAnomaly.py --input '/content/AnomalySegmentation_CourseProjectBaseCode/Validation_Dataset/FS_LostFound_full/images/*.png' --method msp --temperature 3\n",
        "!python evalAnomaly.py --input '/content/AnomalySegmentation_CourseProjectBaseCode/Validation_Dataset/FS_LostFound_full/images/*.png' --method msp --temperature 3.5\n",
        "!python evalAnomaly.py --input '/content/AnomalySegmentation_CourseProjectBaseCode/Validation_Dataset/FS_LostFound_full/images/*.png' --method msp --temperature 5\n",
        "!python evalAnomaly.py --input '/content/AnomalySegmentation_CourseProjectBaseCode/Validation_Dataset/FS_LostFound_full/images/*.png' --method msp --temperature 10"
      ],
      "metadata": {
        "colab": {
          "base_uri": "https://localhost:8080/"
        },
        "id": "PU-bSiNs4RMj",
        "outputId": "5efcc7e8-93e0-4226-c28e-348f7c3fc718"
      },
      "execution_count": null,
      "outputs": [
        {
          "output_type": "stream",
          "name": "stdout",
          "text": [
            "/content/AnomalySegmentation_CourseProjectBaseCode/eval\n",
            "Loading model: ../trained_models/erfnet.py\n",
            "Loading weights: ../trained_models/erfnet_pretrained.pth\n",
            "Model and weights LOADED successfully\n",
            "AUPRC score: 24.254635122254307\n",
            "FPR@TPR95: 91.74775715187056\n",
            "Temperature : 3.0\n",
            "Loading model: ../trained_models/erfnet.py\n",
            "Loading weights: ../trained_models/erfnet_pretrained.pth\n",
            "Model and weights LOADED successfully\n",
            "AUPRC score: 24.473669039242694\n",
            "FPR@TPR95: 92.09360977234243\n",
            "Temperature : 3.5\n",
            "Loading model: ../trained_models/erfnet.py\n",
            "Loading weights: ../trained_models/erfnet_pretrained.pth\n",
            "Model and weights LOADED successfully\n",
            "AUPRC score: 25.16446911166878\n",
            "FPR@TPR95: 92.51419281329295\n",
            "Temperature : 5.0\n",
            "Loading model: ../trained_models/erfnet.py\n",
            "Loading weights: ../trained_models/erfnet_pretrained.pth\n",
            "Model and weights LOADED successfully\n",
            "AUPRC score: 27.7511199269694\n",
            "FPR@TPR95: 92.41880054471014\n",
            "Temperature : 10.0\n"
          ]
        }
      ]
    },
    {
      "cell_type": "code",
      "execution_count": null,
      "metadata": {
        "colab": {
          "base_uri": "https://localhost:8080/"
        },
        "id": "CtxBUnMEjgaQ",
        "outputId": "3e0ad26b-18a1-4692-fb1a-ca289741241f"
      },
      "outputs": [
        {
          "output_type": "stream",
          "name": "stdout",
          "text": [
            "Requirement already satisfied: torchvision in /usr/local/lib/python3.10/dist-packages (0.16.0+cu121)\n",
            "Requirement already satisfied: numpy in /usr/local/lib/python3.10/dist-packages (from torchvision) (1.23.5)\n",
            "Requirement already satisfied: requests in /usr/local/lib/python3.10/dist-packages (from torchvision) (2.31.0)\n",
            "Requirement already satisfied: torch==2.1.0 in /usr/local/lib/python3.10/dist-packages (from torchvision) (2.1.0+cu121)\n",
            "Requirement already satisfied: pillow!=8.3.*,>=5.3.0 in /usr/local/lib/python3.10/dist-packages (from torchvision) (9.4.0)\n",
            "Requirement already satisfied: filelock in /usr/local/lib/python3.10/dist-packages (from torch==2.1.0->torchvision) (3.13.1)\n",
            "Requirement already satisfied: typing-extensions in /usr/local/lib/python3.10/dist-packages (from torch==2.1.0->torchvision) (4.9.0)\n",
            "Requirement already satisfied: sympy in /usr/local/lib/python3.10/dist-packages (from torch==2.1.0->torchvision) (1.12)\n",
            "Requirement already satisfied: networkx in /usr/local/lib/python3.10/dist-packages (from torch==2.1.0->torchvision) (3.2.1)\n",
            "Requirement already satisfied: jinja2 in /usr/local/lib/python3.10/dist-packages (from torch==2.1.0->torchvision) (3.1.3)\n",
            "Requirement already satisfied: fsspec in /usr/local/lib/python3.10/dist-packages (from torch==2.1.0->torchvision) (2023.6.0)\n",
            "Requirement already satisfied: triton==2.1.0 in /usr/local/lib/python3.10/dist-packages (from torch==2.1.0->torchvision) (2.1.0)\n",
            "Requirement already satisfied: charset-normalizer<4,>=2 in /usr/local/lib/python3.10/dist-packages (from requests->torchvision) (3.3.2)\n",
            "Requirement already satisfied: idna<4,>=2.5 in /usr/local/lib/python3.10/dist-packages (from requests->torchvision) (3.6)\n",
            "Requirement already satisfied: urllib3<3,>=1.21.1 in /usr/local/lib/python3.10/dist-packages (from requests->torchvision) (2.0.7)\n",
            "Requirement already satisfied: certifi>=2017.4.17 in /usr/local/lib/python3.10/dist-packages (from requests->torchvision) (2024.2.2)\n",
            "Requirement already satisfied: MarkupSafe>=2.0 in /usr/local/lib/python3.10/dist-packages (from jinja2->torch==2.1.0->torchvision) (2.1.5)\n",
            "Requirement already satisfied: mpmath>=0.19 in /usr/local/lib/python3.10/dist-packages (from sympy->torch==2.1.0->torchvision) (1.3.0)\n",
            "/content/AnomalySegmentation_CourseProjectBaseCode/eval\n",
            "Loading model: ../trained_models/erfnet.py\n",
            "Loading weights: ../trained_models/erfnet_pretrained.pth\n",
            "Model and weights LOADED successfully\n",
            "/content/AnomalySegmentation_CourseProjectBaseCode/Cityscapes/leftImg8bit/val /content/AnomalySegmentation_CourseProjectBaseCode/Cityscapes/gtFine/val\n",
            "Before temperature - NLL: 6.847, ECE: 0.602\n",
            "Optimal temperature: 1.852\n",
            "After temperature - NLL: 3.913, ECE: 0.479\n",
            "Optimal temperature:  1.852055311203003\n",
            "AUPRC score: 10.00848788789767\n",
            "FPR@TPR95: 94.2829620573639\n"
          ]
        }
      ],
      "source": [
        "# Inference on RoadAnomaly\n",
        "!pip install torchvision\n",
        "%cd /content/AnomalySegmentation_CourseProjectBaseCode/eval\n",
        "!python evalAnomaly.py --input '/content/AnomalySegmentation_CourseProjectBaseCode/Validation_Dataset/RoadAnomaly/images/*.jpg' --datadir /content/AnomalySegmentation_CourseProjectBaseCode/Cityscapes --method msp --temperature -1"
      ]
    },
    {
      "cell_type": "code",
      "source": [
        "# Inference on RoadAnomaly21\n",
        "!pip install torchvision\n",
        "%cd /content/AnomalySegmentation_CourseProjectBaseCode/eval\n",
        "!python evalAnomaly.py --input '/content/AnomalySegmentation_CourseProjectBaseCode/Validation_Dataset/RoadAnomaly21/images/*.png' --datadir /content/AnomalySegmentation_CourseProjectBaseCode/Cityscapes --method msp --temperature -1"
      ],
      "metadata": {
        "colab": {
          "base_uri": "https://localhost:8080/"
        },
        "id": "xo_OQOmxn9zC",
        "outputId": "21caf211-83a8-45ae-88eb-6dde164a784f"
      },
      "execution_count": null,
      "outputs": [
        {
          "output_type": "stream",
          "name": "stdout",
          "text": [
            "Requirement already satisfied: torchvision in /usr/local/lib/python3.10/dist-packages (0.16.0+cu121)\n",
            "Requirement already satisfied: numpy in /usr/local/lib/python3.10/dist-packages (from torchvision) (1.23.5)\n",
            "Requirement already satisfied: requests in /usr/local/lib/python3.10/dist-packages (from torchvision) (2.31.0)\n",
            "Requirement already satisfied: torch==2.1.0 in /usr/local/lib/python3.10/dist-packages (from torchvision) (2.1.0+cu121)\n",
            "Requirement already satisfied: pillow!=8.3.*,>=5.3.0 in /usr/local/lib/python3.10/dist-packages (from torchvision) (9.4.0)\n",
            "Requirement already satisfied: filelock in /usr/local/lib/python3.10/dist-packages (from torch==2.1.0->torchvision) (3.13.1)\n",
            "Requirement already satisfied: typing-extensions in /usr/local/lib/python3.10/dist-packages (from torch==2.1.0->torchvision) (4.9.0)\n",
            "Requirement already satisfied: sympy in /usr/local/lib/python3.10/dist-packages (from torch==2.1.0->torchvision) (1.12)\n",
            "Requirement already satisfied: networkx in /usr/local/lib/python3.10/dist-packages (from torch==2.1.0->torchvision) (3.2.1)\n",
            "Requirement already satisfied: jinja2 in /usr/local/lib/python3.10/dist-packages (from torch==2.1.0->torchvision) (3.1.3)\n",
            "Requirement already satisfied: fsspec in /usr/local/lib/python3.10/dist-packages (from torch==2.1.0->torchvision) (2023.6.0)\n",
            "Requirement already satisfied: triton==2.1.0 in /usr/local/lib/python3.10/dist-packages (from torch==2.1.0->torchvision) (2.1.0)\n",
            "Requirement already satisfied: charset-normalizer<4,>=2 in /usr/local/lib/python3.10/dist-packages (from requests->torchvision) (3.3.2)\n",
            "Requirement already satisfied: idna<4,>=2.5 in /usr/local/lib/python3.10/dist-packages (from requests->torchvision) (3.6)\n",
            "Requirement already satisfied: urllib3<3,>=1.21.1 in /usr/local/lib/python3.10/dist-packages (from requests->torchvision) (2.0.7)\n",
            "Requirement already satisfied: certifi>=2017.4.17 in /usr/local/lib/python3.10/dist-packages (from requests->torchvision) (2024.2.2)\n",
            "Requirement already satisfied: MarkupSafe>=2.0 in /usr/local/lib/python3.10/dist-packages (from jinja2->torch==2.1.0->torchvision) (2.1.5)\n",
            "Requirement already satisfied: mpmath>=0.19 in /usr/local/lib/python3.10/dist-packages (from sympy->torch==2.1.0->torchvision) (1.3.0)\n",
            "/content/AnomalySegmentation_CourseProjectBaseCode/eval\n",
            "Loading model: ../trained_models/erfnet.py\n",
            "Loading weights: ../trained_models/erfnet_pretrained.pth\n",
            "Model and weights LOADED successfully\n",
            "/content/AnomalySegmentation_CourseProjectBaseCode/Cityscapes/leftImg8bit/val /content/AnomalySegmentation_CourseProjectBaseCode/Cityscapes/gtFine/val\n",
            "Before temperature - NLL: 6.799, ECE: 0.598\n",
            "Optimal temperature: 1.851\n",
            "After temperature - NLL: 3.896, ECE: 0.473\n",
            "Optimal temperature:  1.8506171703338623\n",
            "AUPRC score: 15.008123910621924\n",
            "FPR@TPR95: 96.93176006842086\n"
          ]
        }
      ]
    },
    {
      "cell_type": "code",
      "source": [
        "# Inference on RoadObsticle21\n",
        "!pip install torchvision\n",
        "%cd /content/AnomalySegmentation_CourseProjectBaseCode/eval\n",
        "!python evalAnomaly.py --input '/content/AnomalySegmentation_CourseProjectBaseCode/Validation_Dataset/RoadObsticle21/images/*.webp' --datadir /content/AnomalySegmentation_CourseProjectBaseCode/Cityscapes --method msp --temperature -1"
      ],
      "metadata": {
        "colab": {
          "base_uri": "https://localhost:8080/"
        },
        "id": "7U8d_FWcoF9g",
        "outputId": "9b7923a1-9344-401c-aa25-57396c3d50fa"
      },
      "execution_count": null,
      "outputs": [
        {
          "output_type": "stream",
          "name": "stdout",
          "text": [
            "Requirement already satisfied: torchvision in /usr/local/lib/python3.10/dist-packages (0.16.0+cu121)\n",
            "Requirement already satisfied: numpy in /usr/local/lib/python3.10/dist-packages (from torchvision) (1.23.5)\n",
            "Requirement already satisfied: requests in /usr/local/lib/python3.10/dist-packages (from torchvision) (2.31.0)\n",
            "Requirement already satisfied: torch==2.1.0 in /usr/local/lib/python3.10/dist-packages (from torchvision) (2.1.0+cu121)\n",
            "Requirement already satisfied: pillow!=8.3.*,>=5.3.0 in /usr/local/lib/python3.10/dist-packages (from torchvision) (9.4.0)\n",
            "Requirement already satisfied: filelock in /usr/local/lib/python3.10/dist-packages (from torch==2.1.0->torchvision) (3.13.1)\n",
            "Requirement already satisfied: typing-extensions in /usr/local/lib/python3.10/dist-packages (from torch==2.1.0->torchvision) (4.9.0)\n",
            "Requirement already satisfied: sympy in /usr/local/lib/python3.10/dist-packages (from torch==2.1.0->torchvision) (1.12)\n",
            "Requirement already satisfied: networkx in /usr/local/lib/python3.10/dist-packages (from torch==2.1.0->torchvision) (3.2.1)\n",
            "Requirement already satisfied: jinja2 in /usr/local/lib/python3.10/dist-packages (from torch==2.1.0->torchvision) (3.1.3)\n",
            "Requirement already satisfied: fsspec in /usr/local/lib/python3.10/dist-packages (from torch==2.1.0->torchvision) (2023.6.0)\n",
            "Requirement already satisfied: triton==2.1.0 in /usr/local/lib/python3.10/dist-packages (from torch==2.1.0->torchvision) (2.1.0)\n",
            "Requirement already satisfied: charset-normalizer<4,>=2 in /usr/local/lib/python3.10/dist-packages (from requests->torchvision) (3.3.2)\n",
            "Requirement already satisfied: idna<4,>=2.5 in /usr/local/lib/python3.10/dist-packages (from requests->torchvision) (3.6)\n",
            "Requirement already satisfied: urllib3<3,>=1.21.1 in /usr/local/lib/python3.10/dist-packages (from requests->torchvision) (2.0.7)\n",
            "Requirement already satisfied: certifi>=2017.4.17 in /usr/local/lib/python3.10/dist-packages (from requests->torchvision) (2024.2.2)\n",
            "Requirement already satisfied: MarkupSafe>=2.0 in /usr/local/lib/python3.10/dist-packages (from jinja2->torch==2.1.0->torchvision) (2.1.5)\n",
            "Requirement already satisfied: mpmath>=0.19 in /usr/local/lib/python3.10/dist-packages (from sympy->torch==2.1.0->torchvision) (1.3.0)\n",
            "/content/AnomalySegmentation_CourseProjectBaseCode/eval\n",
            "Loading model: ../trained_models/erfnet.py\n",
            "Loading weights: ../trained_models/erfnet_pretrained.pth\n",
            "Model and weights LOADED successfully\n",
            "/content/AnomalySegmentation_CourseProjectBaseCode/Cityscapes/leftImg8bit/val /content/AnomalySegmentation_CourseProjectBaseCode/Cityscapes/gtFine/val\n",
            "Before temperature - NLL: 6.799, ECE: 0.598\n",
            "Optimal temperature: 1.851\n",
            "After temperature - NLL: 3.896, ECE: 0.473\n",
            "Optimal temperature:  1.8506171703338623\n",
            "AUPRC score: 0.6348907045144523\n",
            "FPR@TPR95: 94.5101186963156\n"
          ]
        }
      ]
    },
    {
      "cell_type": "code",
      "source": [
        "# Inference on FS_STATIC\n",
        "!pip install torchvision\n",
        "%cd /content/AnomalySegmentation_CourseProjectBaseCode/eval\n",
        "!python evalAnomaly.py --input '/content/AnomalySegmentation_CourseProjectBaseCode/Validation_Dataset/fs_static/images/*.jpg' --datadir /content/AnomalySegmentation_CourseProjectBaseCode/Cityscapes --method msp --temperature -1"
      ],
      "metadata": {
        "colab": {
          "base_uri": "https://localhost:8080/"
        },
        "id": "JoWl-8ANoR2Z",
        "outputId": "18c73128-81f6-4d8b-8fb0-5e053e3ef89a"
      },
      "execution_count": null,
      "outputs": [
        {
          "output_type": "stream",
          "name": "stdout",
          "text": [
            "Requirement already satisfied: torchvision in /usr/local/lib/python3.10/dist-packages (0.16.0+cu121)\n",
            "Requirement already satisfied: numpy in /usr/local/lib/python3.10/dist-packages (from torchvision) (1.23.5)\n",
            "Requirement already satisfied: requests in /usr/local/lib/python3.10/dist-packages (from torchvision) (2.31.0)\n",
            "Requirement already satisfied: torch==2.1.0 in /usr/local/lib/python3.10/dist-packages (from torchvision) (2.1.0+cu121)\n",
            "Requirement already satisfied: pillow!=8.3.*,>=5.3.0 in /usr/local/lib/python3.10/dist-packages (from torchvision) (9.4.0)\n",
            "Requirement already satisfied: filelock in /usr/local/lib/python3.10/dist-packages (from torch==2.1.0->torchvision) (3.13.1)\n",
            "Requirement already satisfied: typing-extensions in /usr/local/lib/python3.10/dist-packages (from torch==2.1.0->torchvision) (4.9.0)\n",
            "Requirement already satisfied: sympy in /usr/local/lib/python3.10/dist-packages (from torch==2.1.0->torchvision) (1.12)\n",
            "Requirement already satisfied: networkx in /usr/local/lib/python3.10/dist-packages (from torch==2.1.0->torchvision) (3.2.1)\n",
            "Requirement already satisfied: jinja2 in /usr/local/lib/python3.10/dist-packages (from torch==2.1.0->torchvision) (3.1.3)\n",
            "Requirement already satisfied: fsspec in /usr/local/lib/python3.10/dist-packages (from torch==2.1.0->torchvision) (2023.6.0)\n",
            "Requirement already satisfied: triton==2.1.0 in /usr/local/lib/python3.10/dist-packages (from torch==2.1.0->torchvision) (2.1.0)\n",
            "Requirement already satisfied: charset-normalizer<4,>=2 in /usr/local/lib/python3.10/dist-packages (from requests->torchvision) (3.3.2)\n",
            "Requirement already satisfied: idna<4,>=2.5 in /usr/local/lib/python3.10/dist-packages (from requests->torchvision) (3.6)\n",
            "Requirement already satisfied: urllib3<3,>=1.21.1 in /usr/local/lib/python3.10/dist-packages (from requests->torchvision) (2.0.7)\n",
            "Requirement already satisfied: certifi>=2017.4.17 in /usr/local/lib/python3.10/dist-packages (from requests->torchvision) (2024.2.2)\n",
            "Requirement already satisfied: MarkupSafe>=2.0 in /usr/local/lib/python3.10/dist-packages (from jinja2->torch==2.1.0->torchvision) (2.1.5)\n",
            "Requirement already satisfied: mpmath>=0.19 in /usr/local/lib/python3.10/dist-packages (from sympy->torch==2.1.0->torchvision) (1.3.0)\n",
            "/content/AnomalySegmentation_CourseProjectBaseCode/eval\n",
            "Loading model: ../trained_models/erfnet.py\n",
            "Loading weights: ../trained_models/erfnet_pretrained.pth\n",
            "Model and weights LOADED successfully\n",
            "/content/AnomalySegmentation_CourseProjectBaseCode/Cityscapes/leftImg8bit/val /content/AnomalySegmentation_CourseProjectBaseCode/Cityscapes/gtFine/val\n",
            "Before temperature - NLL: 6.799, ECE: 0.598\n",
            "Optimal temperature: 1.851\n",
            "After temperature - NLL: 3.896, ECE: 0.473\n",
            "Optimal temperature:  1.8506171703338623\n",
            "AUPRC score: 1.761478015994392\n",
            "FPR@TPR95: 93.78094831855451\n"
          ]
        }
      ]
    },
    {
      "cell_type": "code",
      "source": [
        "# Inference on FS_LostFound_full\n",
        "!pip install torchvision\n",
        "%cd /content/AnomalySegmentation_CourseProjectBaseCode/eval\n",
        "!python evalAnomaly.py --input '/content/AnomalySegmentation_CourseProjectBaseCode/Validation_Dataset/FS_LostFound_full/images/*.png' --datadir /content/AnomalySegmentation_CourseProjectBaseCode/Cityscapes --method msp --temperature -1"
      ],
      "metadata": {
        "colab": {
          "base_uri": "https://localhost:8080/"
        },
        "id": "wybXoJThoaPN",
        "outputId": "d8023b00-3fbc-4b47-eb72-3cfeb0ee2a3b"
      },
      "execution_count": null,
      "outputs": [
        {
          "output_type": "stream",
          "name": "stdout",
          "text": [
            "Requirement already satisfied: torchvision in /usr/local/lib/python3.10/dist-packages (0.16.0+cu121)\n",
            "Requirement already satisfied: numpy in /usr/local/lib/python3.10/dist-packages (from torchvision) (1.23.5)\n",
            "Requirement already satisfied: requests in /usr/local/lib/python3.10/dist-packages (from torchvision) (2.31.0)\n",
            "Requirement already satisfied: torch==2.1.0 in /usr/local/lib/python3.10/dist-packages (from torchvision) (2.1.0+cu121)\n",
            "Requirement already satisfied: pillow!=8.3.*,>=5.3.0 in /usr/local/lib/python3.10/dist-packages (from torchvision) (9.4.0)\n",
            "Requirement already satisfied: filelock in /usr/local/lib/python3.10/dist-packages (from torch==2.1.0->torchvision) (3.13.1)\n",
            "Requirement already satisfied: typing-extensions in /usr/local/lib/python3.10/dist-packages (from torch==2.1.0->torchvision) (4.9.0)\n",
            "Requirement already satisfied: sympy in /usr/local/lib/python3.10/dist-packages (from torch==2.1.0->torchvision) (1.12)\n",
            "Requirement already satisfied: networkx in /usr/local/lib/python3.10/dist-packages (from torch==2.1.0->torchvision) (3.2.1)\n",
            "Requirement already satisfied: jinja2 in /usr/local/lib/python3.10/dist-packages (from torch==2.1.0->torchvision) (3.1.3)\n",
            "Requirement already satisfied: fsspec in /usr/local/lib/python3.10/dist-packages (from torch==2.1.0->torchvision) (2023.6.0)\n",
            "Requirement already satisfied: triton==2.1.0 in /usr/local/lib/python3.10/dist-packages (from torch==2.1.0->torchvision) (2.1.0)\n",
            "Requirement already satisfied: charset-normalizer<4,>=2 in /usr/local/lib/python3.10/dist-packages (from requests->torchvision) (3.3.2)\n",
            "Requirement already satisfied: idna<4,>=2.5 in /usr/local/lib/python3.10/dist-packages (from requests->torchvision) (3.6)\n",
            "Requirement already satisfied: urllib3<3,>=1.21.1 in /usr/local/lib/python3.10/dist-packages (from requests->torchvision) (2.0.7)\n",
            "Requirement already satisfied: certifi>=2017.4.17 in /usr/local/lib/python3.10/dist-packages (from requests->torchvision) (2024.2.2)\n",
            "Requirement already satisfied: MarkupSafe>=2.0 in /usr/local/lib/python3.10/dist-packages (from jinja2->torch==2.1.0->torchvision) (2.1.5)\n",
            "Requirement already satisfied: mpmath>=0.19 in /usr/local/lib/python3.10/dist-packages (from sympy->torch==2.1.0->torchvision) (1.3.0)\n",
            "/content/AnomalySegmentation_CourseProjectBaseCode/eval\n",
            "Loading model: ../trained_models/erfnet.py\n",
            "Loading weights: ../trained_models/erfnet_pretrained.pth\n",
            "Model and weights LOADED successfully\n",
            "/content/AnomalySegmentation_CourseProjectBaseCode/Cityscapes/leftImg8bit/val /content/AnomalySegmentation_CourseProjectBaseCode/Cityscapes/gtFine/val\n",
            "Before temperature - NLL: 6.799, ECE: 0.598\n",
            "Optimal temperature: 1.851\n",
            "After temperature - NLL: 3.896, ECE: 0.473\n",
            "Optimal temperature:  1.8506171703338623\n",
            "AUPRC score: 26.812956531426373\n",
            "FPR@TPR95: 92.58278738458505\n"
          ]
        }
      ]
    },
    {
      "cell_type": "code",
      "execution_count": null,
      "metadata": {
        "id": "21Hu638HYE9n"
      },
      "outputs": [],
      "source": [
        "########################## BiSeNetv1 ##########################\n",
        "!git clone https://github.com/federicamato00/BiSeNet-Training.git\n",
        "%cd /content/BiSeNet-Training\n",
        "#Download Cityscapes Dataset\n",
        "!python -m pip install cityscapesscripts\n",
        "!csDownload leftImg8bit_trainvaltest.zip\n",
        "!csDownload gtFine_trainvaltest.zip\n",
        "!mkdir /content/BiSeNet-Training/Cityscapes\n",
        "%mv /content/BiSeNet-Training/leftImg8bit_trainvaltest.zip /content/BiSeNet-Training/Cityscapes\n",
        "%mv /content/BiSeNet-Training/gtFine_trainvaltest.zip /content/BiSeNet-Training/Cityscapes\n",
        "%cd /content/BiSeNet-Training/Cityscapes\n",
        "!unzip leftImg8bit_trainvaltest.zip\n",
        "!unzip gtFine_trainvaltest.zip\n",
        "!CITYSCAPES_DATASET='.' csCreateTrainIdLabelImgs\n",
        "%cd /content/BiSeNet-Training/tools\n",
        "!pip install visdom"
      ]
    },
    {
      "cell_type": "code",
      "execution_count": null,
      "metadata": {
        "id": "hNcm-td_VmBH"
      },
      "outputs": [],
      "source": [
        "####################### TRAINING #################################\n",
        "%cd /content/BiSeNet-Training\n",
        "!python rewriting.py ./datasets/cityscapes/train.txt # Bisogna aggiungerlo al repo di fede o aggiungerlo a mano\n",
        "import os\n",
        "os.environ[\"WORLD_SIZE\"] = \"1\"\n",
        "os.environ['MASTER_ADDR'] = 'localhost'  # Imposta l'indirizzo IP del nodo master\n",
        "os.environ['MASTER_PORT'] = '12345'       # Imposta la porta del nodo master\n",
        "os.environ['LOCAL_RANK'] = '0'\n",
        "os.environ['RANK'] = '0'\n",
        "# Esegui lo script di addestramento\n",
        "!python tools/train_amp.py --config configs/bisenetv1_city.py"
      ]
    },
    {
      "cell_type": "code",
      "execution_count": null,
      "metadata": {
        "colab": {
          "base_uri": "https://localhost:8080/"
        },
        "id": "fhHiLWooV5Bx",
        "outputId": "10fde2b4-6ea1-4ad6-feab-45aa89c2b5c8"
      },
      "outputs": [
        {
          "name": "stdout",
          "output_type": "stream",
          "text": [
            "/content/AnomalySegmentation_CourseProjectBaseCode/eval\n",
            "Loading model: ../trained_models/./models/BiSeNetV1.py\n",
            "Loading weights: ../trained_models/bisnetv1.pth\n",
            "Model you choose :  BiSeNet\n",
            "Model and weights LOADED successfully\n",
            "AUPRC score: 16.96941766856052\n",
            "FPR@TPR95: 98.4293543308749\n",
            "Loading model: ../trained_models/./models/BiSeNetV1.py\n",
            "Loading weights: ../trained_models/bisnetv1.pth\n",
            "Model you choose :  BiSeNet\n",
            "Model and weights LOADED successfully\n",
            "AUPRC score: 8.684426551573747\n",
            "FPR@TPR95: 55.20734977235102\n",
            "Loading model: ../trained_models/./models/BiSeNetV1.py\n",
            "Loading weights: ../trained_models/bisnetv1.pth\n",
            "Model you choose :  BiSeNet\n",
            "Model and weights LOADED successfully\n",
            "AUPRC score: 2.4395913727443483\n",
            "FPR@TPR95: 84.01734725236682\n"
          ]
        }
      ],
      "source": [
        "######################## evaluation tramite void classifier ###################################\n",
        "\n",
        "%cd /content/AnomalySegmentation_CourseProjectBaseCode/eval\n",
        "!python eval_voidClassifier.py --input '/content/AnomalySegmentation_CourseProjectBaseCode/Validation_Dataset/RoadAnomaly/images/*.jpg' --model BiSeNet\n",
        "!python eval_voidClassifier.py --input '/content/AnomalySegmentation_CourseProjectBaseCode/Validation_Dataset/RoadAnomaly21/images/*.png' --model BiSeNet\n",
        "!python eval_voidClassifier.py --input '/content/AnomalySegmentation_CourseProjectBaseCode/Validation_Dataset/RoadObsticle21/images/*.webp' --model BiSeNet\n",
        "!python eval_voidClassifier.py --input '/content/AnomalySegmentation_CourseProjectBaseCode/Validation_Dataset/fs_static/images/*.jpg' --model BiSeNet"
      ]
    },
    {
      "cell_type": "code",
      "execution_count": null,
      "metadata": {
        "id": "_yb8o6m3gGtx"
      },
      "outputs": [],
      "source": [
        "# SISTEMARE EVAL IOU E FARE PROVE SU BISENET"
      ]
    }
  ],
  "metadata": {
    "colab": {
      "provenance": [],
      "include_colab_link": true
    },
    "kernelspec": {
      "display_name": "Python 3",
      "name": "python3"
    },
    "language_info": {
      "name": "python"
    }
  },
  "nbformat": 4,
  "nbformat_minor": 0
}