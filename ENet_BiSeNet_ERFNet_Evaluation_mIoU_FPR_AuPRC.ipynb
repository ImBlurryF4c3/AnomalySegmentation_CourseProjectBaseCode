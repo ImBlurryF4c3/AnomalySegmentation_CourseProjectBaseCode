{
  "nbformat": 4,
  "nbformat_minor": 0,
  "metadata": {
    "colab": {
      "provenance": [],
      "gpuType": "A100",
      "machine_shape": "hm",
      "include_colab_link": true
    },
    "kernelspec": {
      "name": "python3",
      "display_name": "Python 3"
    },
    "language_info": {
      "name": "python"
    },
    "accelerator": "GPU"
  },
  "cells": [
    {
      "cell_type": "markdown",
      "metadata": {
        "id": "view-in-github",
        "colab_type": "text"
      },
      "source": [
        "<a href=\"https://colab.research.google.com/github/ImBlurryF4c3/AnomalySegmentation_CourseProjectBaseCode/blob/fede/ENet_BiSeNet_ERFNet_Evaluation_mIoU_FPR_AuPRC.ipynb\" target=\"_parent\"><img src=\"https://colab.research.google.com/assets/colab-badge.svg\" alt=\"Open In Colab\"/></a>"
      ]
    },
    {
      "cell_type": "code",
      "execution_count": 1,
      "metadata": {
        "id": "WXwnoJJFPzhP",
        "colab": {
          "base_uri": "https://localhost:8080/"
        },
        "outputId": "3a75b5c6-6ab6-4241-8668-7d1182b44850"
      },
      "outputs": [
        {
          "output_type": "stream",
          "name": "stdout",
          "text": [
            "Cloning into 'AnomalySegmentation_CourseProjectBaseCode'...\n",
            "remote: Enumerating objects: 3848, done.\u001b[K\n",
            "remote: Counting objects: 100% (320/320), done.\u001b[K\n",
            "remote: Compressing objects: 100% (149/149), done.\u001b[K\n",
            "remote: Total 3848 (delta 211), reused 244 (delta 168), pack-reused 3528\u001b[K\n",
            "Receiving objects: 100% (3848/3848), 1.56 GiB | 15.80 MiB/s, done.\n",
            "Resolving deltas: 100% (724/724), done.\n",
            "Updating files: 100% (3507/3507), done.\n",
            "/content/AnomalySegmentation_CourseProjectBaseCode\n",
            "Branch 'fede' set up to track remote branch 'fede' from 'origin'.\n",
            "Switched to a new branch 'fede'\n"
          ]
        }
      ],
      "source": [
        "\n",
        "!git clone https://github.com/ImBlurryF4c3/AnomalySegmentation_CourseProjectBaseCode.git\n",
        "%cd /content/AnomalySegmentation_CourseProjectBaseCode\n",
        "!git checkout fede"
      ]
    },
    {
      "cell_type": "code",
      "source": [
        "#Download Cityscapes Dataset\n",
        "!python -m pip install cityscapesscripts\n",
        "# Preparing Cityscapes Dataset (val)\n",
        "%cd /content/AnomalySegmentation_CourseProjectBaseCode/Cityscapes/\n",
        "!CITYSCAPES_DATASET='.' csCreateTrainIdLabelImgs\n",
        "# Install required packages for evaluation (ood_metrics)\n",
        "%cd /content/AnomalySegmentation_CourseProjectBaseCode/eval\n",
        "!pip install ood_metrics"
      ],
      "metadata": {
        "colab": {
          "base_uri": "https://localhost:8080/"
        },
        "id": "ZUdie-DiRhUe",
        "outputId": "be69a526-062b-46f8-d369-6268eee70ed7"
      },
      "execution_count": 2,
      "outputs": [
        {
          "output_type": "stream",
          "name": "stdout",
          "text": [
            "Collecting cityscapesscripts\n",
            "  Downloading cityscapesScripts-2.2.2-py3-none-any.whl (473 kB)\n",
            "\u001b[2K     \u001b[90m━━━━━━━━━━━━━━━━━━━━━━━━━━━━━━━━━━━━━━━━\u001b[0m \u001b[32m473.3/473.3 kB\u001b[0m \u001b[31m10.3 MB/s\u001b[0m eta \u001b[36m0:00:00\u001b[0m\n",
            "\u001b[?25hRequirement already satisfied: numpy in /usr/local/lib/python3.10/dist-packages (from cityscapesscripts) (1.23.5)\n",
            "Requirement already satisfied: matplotlib in /usr/local/lib/python3.10/dist-packages (from cityscapesscripts) (3.7.1)\n",
            "Requirement already satisfied: pillow in /usr/local/lib/python3.10/dist-packages (from cityscapesscripts) (9.4.0)\n",
            "Requirement already satisfied: appdirs in /usr/local/lib/python3.10/dist-packages (from cityscapesscripts) (1.4.4)\n",
            "Collecting pyquaternion (from cityscapesscripts)\n",
            "  Downloading pyquaternion-0.9.9-py3-none-any.whl (14 kB)\n",
            "Collecting coloredlogs (from cityscapesscripts)\n",
            "  Downloading coloredlogs-15.0.1-py2.py3-none-any.whl (46 kB)\n",
            "\u001b[2K     \u001b[90m━━━━━━━━━━━━━━━━━━━━━━━━━━━━━━━━━━━━━━━━\u001b[0m \u001b[32m46.0/46.0 kB\u001b[0m \u001b[31m7.6 MB/s\u001b[0m eta \u001b[36m0:00:00\u001b[0m\n",
            "\u001b[?25hRequirement already satisfied: tqdm in /usr/local/lib/python3.10/dist-packages (from cityscapesscripts) (4.66.1)\n",
            "Collecting typing (from cityscapesscripts)\n",
            "  Downloading typing-3.7.4.3.tar.gz (78 kB)\n",
            "\u001b[2K     \u001b[90m━━━━━━━━━━━━━━━━━━━━━━━━━━━━━━━━━━━━━━━━\u001b[0m \u001b[32m78.6/78.6 kB\u001b[0m \u001b[31m11.7 MB/s\u001b[0m eta \u001b[36m0:00:00\u001b[0m\n",
            "\u001b[?25h  Preparing metadata (setup.py) ... \u001b[?25l\u001b[?25hdone\n",
            "Collecting humanfriendly>=9.1 (from coloredlogs->cityscapesscripts)\n",
            "  Downloading humanfriendly-10.0-py2.py3-none-any.whl (86 kB)\n",
            "\u001b[2K     \u001b[90m━━━━━━━━━━━━━━━━━━━━━━━━━━━━━━━━━━━━━━━━\u001b[0m \u001b[32m86.8/86.8 kB\u001b[0m \u001b[31m14.7 MB/s\u001b[0m eta \u001b[36m0:00:00\u001b[0m\n",
            "\u001b[?25hRequirement already satisfied: contourpy>=1.0.1 in /usr/local/lib/python3.10/dist-packages (from matplotlib->cityscapesscripts) (1.2.0)\n",
            "Requirement already satisfied: cycler>=0.10 in /usr/local/lib/python3.10/dist-packages (from matplotlib->cityscapesscripts) (0.12.1)\n",
            "Requirement already satisfied: fonttools>=4.22.0 in /usr/local/lib/python3.10/dist-packages (from matplotlib->cityscapesscripts) (4.48.1)\n",
            "Requirement already satisfied: kiwisolver>=1.0.1 in /usr/local/lib/python3.10/dist-packages (from matplotlib->cityscapesscripts) (1.4.5)\n",
            "Requirement already satisfied: packaging>=20.0 in /usr/local/lib/python3.10/dist-packages (from matplotlib->cityscapesscripts) (23.2)\n",
            "Requirement already satisfied: pyparsing>=2.3.1 in /usr/local/lib/python3.10/dist-packages (from matplotlib->cityscapesscripts) (3.1.1)\n",
            "Requirement already satisfied: python-dateutil>=2.7 in /usr/local/lib/python3.10/dist-packages (from matplotlib->cityscapesscripts) (2.8.2)\n",
            "Requirement already satisfied: six>=1.5 in /usr/local/lib/python3.10/dist-packages (from python-dateutil>=2.7->matplotlib->cityscapesscripts) (1.16.0)\n",
            "Building wheels for collected packages: typing\n",
            "  Building wheel for typing (setup.py) ... \u001b[?25l\u001b[?25hdone\n",
            "  Created wheel for typing: filename=typing-3.7.4.3-py3-none-any.whl size=26304 sha256=75468c3eb9d51eea5ff66e242fde32cdbe910915363a62d719292a1cb0a72394\n",
            "  Stored in directory: /root/.cache/pip/wheels/7c/d0/9e/1f26ebb66d9e1732e4098bc5a6c2d91f6c9a529838f0284890\n",
            "Successfully built typing\n",
            "Installing collected packages: typing, pyquaternion, humanfriendly, coloredlogs, cityscapesscripts\n",
            "Successfully installed cityscapesscripts-2.2.2 coloredlogs-15.0.1 humanfriendly-10.0 pyquaternion-0.9.9 typing-3.7.4.3\n",
            "/content/AnomalySegmentation_CourseProjectBaseCode/Cityscapes\n",
            "Processing 500 annotation files\n",
            "Progress: 100.0 % /content/AnomalySegmentation_CourseProjectBaseCode/eval\n",
            "Collecting ood_metrics\n",
            "  Downloading ood_metrics-1.1.2-py3-none-any.whl (6.1 kB)\n",
            "Requirement already satisfied: matplotlib<4.0,>=3.0 in /usr/local/lib/python3.10/dist-packages (from ood_metrics) (3.7.1)\n",
            "Requirement already satisfied: numpy<2.0,>=1.22 in /usr/local/lib/python3.10/dist-packages (from ood_metrics) (1.23.5)\n",
            "Requirement already satisfied: scikit-learn<2.0,>=1.0 in /usr/local/lib/python3.10/dist-packages (from ood_metrics) (1.2.2)\n",
            "Requirement already satisfied: contourpy>=1.0.1 in /usr/local/lib/python3.10/dist-packages (from matplotlib<4.0,>=3.0->ood_metrics) (1.2.0)\n",
            "Requirement already satisfied: cycler>=0.10 in /usr/local/lib/python3.10/dist-packages (from matplotlib<4.0,>=3.0->ood_metrics) (0.12.1)\n",
            "Requirement already satisfied: fonttools>=4.22.0 in /usr/local/lib/python3.10/dist-packages (from matplotlib<4.0,>=3.0->ood_metrics) (4.48.1)\n",
            "Requirement already satisfied: kiwisolver>=1.0.1 in /usr/local/lib/python3.10/dist-packages (from matplotlib<4.0,>=3.0->ood_metrics) (1.4.5)\n",
            "Requirement already satisfied: packaging>=20.0 in /usr/local/lib/python3.10/dist-packages (from matplotlib<4.0,>=3.0->ood_metrics) (23.2)\n",
            "Requirement already satisfied: pillow>=6.2.0 in /usr/local/lib/python3.10/dist-packages (from matplotlib<4.0,>=3.0->ood_metrics) (9.4.0)\n",
            "Requirement already satisfied: pyparsing>=2.3.1 in /usr/local/lib/python3.10/dist-packages (from matplotlib<4.0,>=3.0->ood_metrics) (3.1.1)\n",
            "Requirement already satisfied: python-dateutil>=2.7 in /usr/local/lib/python3.10/dist-packages (from matplotlib<4.0,>=3.0->ood_metrics) (2.8.2)\n",
            "Requirement already satisfied: scipy>=1.3.2 in /usr/local/lib/python3.10/dist-packages (from scikit-learn<2.0,>=1.0->ood_metrics) (1.11.4)\n",
            "Requirement already satisfied: joblib>=1.1.1 in /usr/local/lib/python3.10/dist-packages (from scikit-learn<2.0,>=1.0->ood_metrics) (1.3.2)\n",
            "Requirement already satisfied: threadpoolctl>=2.0.0 in /usr/local/lib/python3.10/dist-packages (from scikit-learn<2.0,>=1.0->ood_metrics) (3.2.0)\n",
            "Requirement already satisfied: six>=1.5 in /usr/local/lib/python3.10/dist-packages (from python-dateutil>=2.7->matplotlib<4.0,>=3.0->ood_metrics) (1.16.0)\n",
            "Installing collected packages: ood_metrics\n",
            "Successfully installed ood_metrics-1.1.2\n"
          ]
        }
      ]
    },
    {
      "cell_type": "code",
      "source": [
        "######################## evaluation tramite void classifier ###################################\n",
        "%cd /content/AnomalySegmentation_CourseProjectBaseCode/eval\n",
        "!python eval_voidClassifier.py --input '/content/AnomalySegmentation_CourseProjectBaseCode/Validation_Dataset/FS_LostFound_full/images/*.png' --model BiSeNet\n"
      ],
      "metadata": {
        "id": "eOfHc65-P16y",
        "colab": {
          "base_uri": "https://localhost:8080/"
        },
        "outputId": "a20275cc-1cf5-45bd-a28e-ceb7fbcf7de7"
      },
      "execution_count": 4,
      "outputs": [
        {
          "output_type": "stream",
          "name": "stdout",
          "text": [
            "/content/AnomalySegmentation_CourseProjectBaseCode/eval\n",
            "Loading model: ../trained_models/./otherModel/BiSeNetV1.py\n",
            "Loading weights: ../trained_models/bisenetv1.pth\n",
            "Model you choose :  BiSeNet\n",
            "Downloading: \"https://download.pytorch.org/models/resnet18-5c106cde.pth\" to /root/.cache/torch/hub/checkpoints/resnet18-5c106cde.pth\n",
            "100% 44.7M/44.7M [00:00<00:00, 266MB/s]\n",
            "Model and weights LOADED successfully\n",
            "AUPRC score: 17.7615941985154\n",
            "FPR@TPR95: 95.19172067443861\n"
          ]
        }
      ]
    },
    {
      "cell_type": "code",
      "source": [
        "######################## evaluation ENet tramite void classifier ###################################\n",
        "%cd /content/AnomalySegmentation_CourseProjectBaseCode/eval\n",
        "!python eval_voidClassifier.py --input '/content/AnomalySegmentation_CourseProjectBaseCode/Validation_Dataset/FS_LostFound_full/images/*.png' --model ENet --loadWeights ENet.pth --loadModel ENet\n",
        "!python eval_voidClassifier.py --input '/content/AnomalySegmentation_CourseProjectBaseCode/Validation_Dataset/RoadAnomaly/images/*.jpg' --model ENet --loadWeights ENet.pth --loadModel ENet\n",
        "!python eval_voidClassifier.py --input '/content/AnomalySegmentation_CourseProjectBaseCode/Validation_Dataset/RoadAnomaly21/images/*.png' --model ENet --loadWeights ENet.pth --loadModel ENet\n",
        "!python eval_voidClassifier.py --input '/content/AnomalySegmentation_CourseProjectBaseCode/Validation_Dataset/RoadObsticle21/images/*.webp' --model ENet --loadWeights ENet.pth --loadModel ENet\n",
        "!python eval_voidClassifier.py --input '/content/AnomalySegmentation_CourseProjectBaseCode/Validation_Dataset/fs_static/images/*.jpg' --model ENet --loadWeights ENet.pth --loadModel ENet"
      ],
      "metadata": {
        "id": "LraJcIKidGaI"
      },
      "execution_count": null,
      "outputs": []
    },
    {
      "cell_type": "code",
      "source": [
        "######################## evaluation BiSeNet tramite void classifier ###################################\n",
        "%cd /content/AnomalySegmentation_CourseProjectBaseCode/eval\n",
        "!python eval_voidClassifier.py --input '/content/AnomalySegmentation_CourseProjectBaseCode/Validation_Dataset/FS_LostFound_full/images/*.png' --model BiSeNet\n",
        "!python eval_voidClassifier.py --input '/content/AnomalySegmentation_CourseProjectBaseCode/Validation_Dataset/RoadAnomaly/images/*.jpg' --model BiSeNet\n",
        "!python eval_voidClassifier.py --input '/content/AnomalySegmentation_CourseProjectBaseCode/Validation_Dataset/RoadAnomaly21/images/*.png' --model BiSeNet\n",
        "!python eval_voidClassifier.py --input '/content/AnomalySegmentation_CourseProjectBaseCode/Validation_Dataset/RoadObsticle21/images/*.webp' --model BiSeNet\n",
        "!python eval_voidClassifier.py --input '/content/AnomalySegmentation_CourseProjectBaseCode/Validation_Dataset/fs_static/images/*.jpg' --model BiSeNet"
      ],
      "metadata": {
        "id": "QbMmxV0BdPqY"
      },
      "execution_count": null,
      "outputs": []
    },
    {
      "cell_type": "code",
      "source": [
        "######################## evaluation ERFNet tramite void classifier ###################################\n",
        "%cd /content/AnomalySegmentation_CourseProjectBaseCode/eval\n",
        "!python eval_voidClassifier.py --input '/content/AnomalySegmentation_CourseProjectBaseCode/Validation_Dataset/FS_LostFound_full/images/*.png' --model ERFNet --loadWeights erfnet_pretrained.pth --loadModel ERFNet\n",
        "!python eval_voidClassifier.py --input '/content/AnomalySegmentation_CourseProjectBaseCode/Validation_Dataset/RoadAnomaly/images/*.jpg' --model ERFNet --loadWeights erfnet_pretrained.pth --loadModel ERFNet\n",
        "!python eval_voidClassifier.py --input '/content/AnomalySegmentation_CourseProjectBaseCode/Validation_Dataset/RoadAnomaly21/images/*.png' --model ERFNet --loadWeights erfnet_pretrained.pth --loadModel ERFNet\n",
        "!python eval_voidClassifier.py --input '/content/AnomalySegmentation_CourseProjectBaseCode/Validation_Dataset/RoadObsticle21/images/*.webp' --model ERFNet --loadWeights erfnet_pretrained.pth --loadModel ERFNet\n",
        "!python eval_voidClassifier.py --input '/content/AnomalySegmentation_CourseProjectBaseCode/Validation_Dataset/fs_static/images/*.jpg' --model ERFNet --loadWeights erfnet_pretrained.pth --loadModel ERFNet"
      ],
      "metadata": {
        "colab": {
          "base_uri": "https://localhost:8080/"
        },
        "id": "bkzXx2z9dZ8O",
        "outputId": "b6f7cdff-04fa-4fde-c514-371103eca953"
      },
      "execution_count": 1,
      "outputs": [
        {
          "output_type": "stream",
          "name": "stdout",
          "text": [
            "/content/AnomalySegmentation_CourseProjectBaseCode/eval\n",
            "Loading model: ../trained_models/ERFNet\n",
            "Loading weights: ../trained_models/erfnet_pretrained.pth\n",
            "Model you choose :  ERFNet\n",
            "Model and weights LOADED successfully\n",
            "AUPRC score: 35.1057537798973\n",
            "FPR@TPR95: 92.87425472931972\n",
            "Loading model: ../trained_models/ERFNet\n",
            "Loading weights: ../trained_models/erfnet_pretrained.pth\n",
            "Model you choose :  ERFNet\n",
            "Model and weights LOADED successfully\n",
            "AUPRC score: 8.14853979269311\n",
            "FPR@TPR95: 95.26307610131254\n",
            "Loading model: ../trained_models/ERFNet\n",
            "Loading weights: ../trained_models/erfnet_pretrained.pth\n",
            "Model you choose :  ERFNet\n",
            "Model and weights LOADED successfully\n",
            "AUPRC score: 12.369239801659337\n",
            "FPR@TPR95: 97.77267970699509\n",
            "Loading model: ../trained_models/ERFNet\n",
            "Loading weights: ../trained_models/erfnet_pretrained.pth\n",
            "Model you choose :  ERFNet\n",
            "Model and weights LOADED successfully\n",
            "AUPRC score: 0.9281399942839429\n",
            "FPR@TPR95: 87.8559962567066\n",
            "Loading model: ../trained_models/ERFNet\n",
            "Loading weights: ../trained_models/erfnet_pretrained.pth\n",
            "Model you choose :  ERFNet\n",
            "Model and weights LOADED successfully\n",
            "AUPRC score: 1.5848409678476627\n",
            "FPR@TPR95: 98.70421751688528\n"
          ]
        }
      ]
    },
    {
      "cell_type": "code",
      "source": [
        "# mIoU eval on Cityscapes validation set (BiSeNet)\n",
        "%cd /content/AnomalySegmentation_CourseProjectBaseCode/eval\n",
        "!python eval_iouVoidClassifier.py --datadir /content/AnomalySegmentation_CourseProjectBaseCode/Cityscapes --subset val --model BiSeNet --loadWeights bisenetv1.pth --loadModel BiSeNet"
      ],
      "metadata": {
        "colab": {
          "base_uri": "https://localhost:8080/"
        },
        "id": "lUV4bAckiRkx",
        "outputId": "28ff2c82-f275-4fdf-9a87-4ff1ced53024"
      },
      "execution_count": 13,
      "outputs": [
        {
          "output_type": "stream",
          "name": "stdout",
          "text": [
            "/content/AnomalySegmentation_CourseProjectBaseCode/eval\n",
            "Loading model: ../trained_models/BiSeNet\n",
            "Loading weights: ../trained_models/bisenetv1.pth\n",
            "Model and weights LOADED successfully\n",
            "---------------------------------------\n",
            "Took  16.63336491584778 seconds\n",
            "Per-Class IoU:\n",
            "\n",
            "NON-VOID -----> 19.53\n",
            "\n",
            "VOID -----> 14.77\n",
            "\n",
            "=======================================\n",
            "\n",
            "MEAN IoU: 17.15% with method: maxLogit with temperature: 1.0\n"
          ]
        }
      ]
    },
    {
      "cell_type": "code",
      "source": [
        "# mIoU eval on Cityscapes validation set (ERFNet)\n",
        "%cd /content/AnomalySegmentation_CourseProjectBaseCode/eval\n",
        "!python eval_iouVoidClassifier.py --datadir /content/AnomalySegmentation_CourseProjectBaseCode/Cityscapes --subset val --model ERFNet --loadWeights erfnet_pretrained.pth --loadModel ERFNet"
      ],
      "metadata": {
        "colab": {
          "base_uri": "https://localhost:8080/"
        },
        "id": "GywgurWx2uwy",
        "outputId": "ace82ad9-cee0-4348-92b6-0bd9999083a2"
      },
      "execution_count": 14,
      "outputs": [
        {
          "output_type": "stream",
          "name": "stdout",
          "text": [
            "/content/AnomalySegmentation_CourseProjectBaseCode/eval\n",
            "Loading model: ../trained_models/ERFNet\n",
            "Loading weights: ../trained_models/erfnet_pretrained.pth\n",
            "Model and weights LOADED successfully\n",
            "Traceback (most recent call last):\n",
            "  File \"/content/AnomalySegmentation_CourseProjectBaseCode/eval/eval_iouVoidClassifier.py\", line 309, in <module>\n",
            "    main(parser.parse_args())\n",
            "  File \"/content/AnomalySegmentation_CourseProjectBaseCode/eval/eval_iouVoidClassifier.py\", line 153, in main\n",
            "    iouEvalVal.addBatch(predicted_labels_void, labels_void)\n",
            "  File \"/content/AnomalySegmentation_CourseProjectBaseCode/eval/iouEval.py\", line 39, in addBatch\n",
            "    x_onehot = torch.zeros(x.size(0), self.nClasses, x.size(2), x.size(3))  \n",
            "IndexError: Dimension out of range (expected to be in range of [-3, 2], but got 3)\n"
          ]
        }
      ]
    },
    {
      "cell_type": "code",
      "source": [
        "# mIoU eval on Cityscapes validation set (ENet)\n",
        "%cd /content/AnomalySegmentation_CourseProjectBaseCode/eval\n",
        "!python eval_iouVoidClassifier.py --datadir /content/AnomalySegmentation_CourseProjectBaseCode/Cityscapes --subset val --model ENet --loadWeights ENet.pth --loadModel ENet"
      ],
      "metadata": {
        "id": "pyEPeX3v3E0c"
      },
      "execution_count": null,
      "outputs": []
    }
  ]
}