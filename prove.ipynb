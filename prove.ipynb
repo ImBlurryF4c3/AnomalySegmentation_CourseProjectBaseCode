{
 "cells": [
  {
   "cell_type": "code",
   "execution_count": 7,
   "metadata": {},
   "outputs": [
    {
     "name": "stdout",
     "output_type": "stream",
     "text": [
      "torch.Size([2, 3, 4, 5])\n"
     ]
    }
   ],
   "source": [
    "\n",
    "import torch\n",
    "\n",
    "# Create a tensor a 4 dimensioni con numeri casuali tra 0 e 19\n",
    "t1 = torch.randint(0, 20, (2, 3, 4, 5))\n",
    "#print(t1)\n",
    "#sostituisci ai valori tra 0 e 18 il numero 0 se invece 19 metti 1\n",
    "t1 = torch.where(t1 < 19, 0, 1)\n",
    "t1 = t1.unsqueeze(1)\n",
    "print(t1.size())\n"
   ]
  }
 ],
 "metadata": {
  "kernelspec": {
   "display_name": "base",
   "language": "python",
   "name": "python3"
  },
  "language_info": {
   "codemirror_mode": {
    "name": "ipython",
    "version": 3
   },
   "file_extension": ".py",
   "mimetype": "text/x-python",
   "name": "python",
   "nbconvert_exporter": "python",
   "pygments_lexer": "ipython3",
   "version": "3.11.0"
  }
 },
 "nbformat": 4,
 "nbformat_minor": 2
}
