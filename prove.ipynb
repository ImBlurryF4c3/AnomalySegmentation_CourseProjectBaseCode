{
 "cells": [
  {
   "cell_type": "code",
   "execution_count": 6,
   "metadata": {},
   "outputs": [
    {
     "name": "stdout",
     "output_type": "stream",
     "text": [
      "tensor([[[[0, 0, 0, 0, 0],\n",
      "          [0, 0, 0, 0, 0],\n",
      "          [0, 0, 0, 0, 0],\n",
      "          [0, 0, 0, 0, 0]],\n",
      "\n",
      "         [[0, 0, 0, 0, 0],\n",
      "          [0, 0, 0, 0, 0],\n",
      "          [0, 0, 0, 0, 0],\n",
      "          [0, 0, 0, 0, 0]],\n",
      "\n",
      "         [[0, 0, 0, 0, 0],\n",
      "          [0, 1, 0, 0, 0],\n",
      "          [1, 0, 0, 0, 0],\n",
      "          [0, 0, 0, 0, 0]]],\n",
      "\n",
      "\n",
      "        [[[0, 0, 0, 0, 0],\n",
      "          [0, 0, 0, 0, 0],\n",
      "          [0, 0, 0, 0, 0],\n",
      "          [0, 1, 0, 0, 0]],\n",
      "\n",
      "         [[0, 0, 0, 0, 0],\n",
      "          [0, 0, 0, 0, 0],\n",
      "          [0, 0, 0, 0, 0],\n",
      "          [0, 0, 0, 0, 0]],\n",
      "\n",
      "         [[0, 0, 0, 0, 0],\n",
      "          [0, 0, 0, 0, 0],\n",
      "          [0, 0, 0, 0, 0],\n",
      "          [0, 0, 0, 0, 0]]]])\n"
     ]
    }
   ],
   "source": [
    "\n",
    "import torch\n",
    "\n",
    "# Create a tensor a 4 dimensioni con numeri casuali tra 0 e 19\n",
    "t1 = torch.randint(0, 20, (2, 3, 4, 5))\n",
    "#print(t1)\n",
    "#sostituisci ai valori tra 0 e 18 il numero 0 se invece 19 metti 1\n",
    "t1 = torch.where(t1 < 19, 0, 1)\n",
    "print(t1)\n"
   ]
  }
 ],
 "metadata": {
  "kernelspec": {
   "display_name": "base",
   "language": "python",
   "name": "python3"
  },
  "language_info": {
   "codemirror_mode": {
    "name": "ipython",
    "version": 3
   },
   "file_extension": ".py",
   "mimetype": "text/x-python",
   "name": "python",
   "nbconvert_exporter": "python",
   "pygments_lexer": "ipython3",
   "version": "3.11.0"
  }
 },
 "nbformat": 4,
 "nbformat_minor": 2
}
