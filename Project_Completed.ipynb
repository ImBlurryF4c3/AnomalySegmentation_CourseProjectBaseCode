{
  "nbformat": 4,
  "nbformat_minor": 0,
  "metadata": {
    "colab": {
      "provenance": [],
      "collapsed_sections": [
        "cN_ay5Ps6mHB",
        "hC4VFkbj71tw",
        "h7e7tOac9qHj"
      ],
      "authorship_tag": "ABX9TyMS9dL2DHTQGAzj0YMIGK4a",
      "include_colab_link": true
    },
    "kernelspec": {
      "name": "python3",
      "display_name": "Python 3"
    },
    "language_info": {
      "name": "python"
    }
  },
  "cells": [
    {
      "cell_type": "markdown",
      "metadata": {
        "id": "view-in-github",
        "colab_type": "text"
      },
      "source": [
        "<a href=\"https://colab.research.google.com/github/ImBlurryF4c3/AnomalySegmentation_CourseProjectBaseCode/blob/fede/Project_Completed.ipynb\" target=\"_parent\"><img src=\"https://colab.research.google.com/assets/colab-badge.svg\" alt=\"Open In Colab\"/></a>"
      ]
    },
    {
      "cell_type": "code",
      "execution_count": null,
      "metadata": {
        "id": "afmvxZvw6GJ0"
      },
      "outputs": [],
      "source": [
        "%cd /content/\n",
        "!git clone https://github.com/ImBlurryF4c3/AnomalySegmentation_CourseProjectBaseCode.git\n",
        "%cd /content/AnomalySegmentation_CourseProjectBaseCode\n",
        "#Download Cityscapes Dataset\n",
        "!python -m pip install cityscapesscripts\n",
        "# Preparing Cityscapes Dataset (val)\n",
        "%cd /content/AnomalySegmentation_CourseProjectBaseCode/Cityscapes/\n",
        "!CITYSCAPES_DATASET='.' csCreateTrainIdLabelImgs"
      ]
    },
    {
      "cell_type": "code",
      "source": [
        "# Install required packages for evaluation (ood_metrics)\n",
        "%cd /content/AnomalySegmentation_CourseProjectBaseCode/eval\n",
        "!pip install ood_metrics"
      ],
      "metadata": {
        "id": "Z5FpNSJJ6LE3"
      },
      "execution_count": null,
      "outputs": []
    },
    {
      "cell_type": "markdown",
      "source": [
        "# **2.A Baselines**"
      ],
      "metadata": {
        "id": "cN_ay5Ps6mHB"
      }
    },
    {
      "cell_type": "code",
      "source": [
        "############ evalAnomaly MAXLOGIT ############\n",
        "%cd /content/AnomalySegmentation_CourseProjectBaseCode/eval\n",
        "!python evalAnomaly.py --input '/content/AnomalySegmentation_CourseProjectBaseCode/Validation_Dataset/FS_LostFound_full/images/*.png' --method maxLogit\n",
        "!python evalAnomaly.py --input '/content/AnomalySegmentation_CourseProjectBaseCode/Validation_Dataset/RoadAnomaly/images/*.jpg' --method maxLogit\n",
        "!python evalAnomaly.py --input '/content/AnomalySegmentation_CourseProjectBaseCode/Validation_Dataset/RoadAnomaly21/images/*.png' --method maxLogit\n",
        "!python evalAnomaly.py --input '/content/AnomalySegmentation_CourseProjectBaseCode/Validation_Dataset/RoadObsticle21/images/*.webp' --method maxLogit\n",
        "!python evalAnomaly.py --input '/content/AnomalySegmentation_CourseProjectBaseCode/Validation_Dataset/fs_static/images/*.jpg' --method maxLogit\n",
        "\n",
        "############ evalAnomaly MSP ############\n",
        "\n",
        "!python evalAnomaly.py --input '/content/AnomalySegmentation_CourseProjectBaseCode/Validation_Dataset/FS_LostFound_full/images/*.png' --method msp\n",
        "!python evalAnomaly.py --input '/content/AnomalySegmentation_CourseProjectBaseCode/Validation_Dataset/RoadAnomaly/images/*.jpg' --method msp\n",
        "!python evalAnomaly.py --input '/content/AnomalySegmentation_CourseProjectBaseCode/Validation_Dataset/RoadAnomaly21/images/*.png' --method msp\n",
        "!python evalAnomaly.py --input '/content/AnomalySegmentation_CourseProjectBaseCode/Validation_Dataset/RoadObsticle21/images/*.webp' --method msp\n",
        "!python evalAnomaly.py --input '/content/AnomalySegmentation_CourseProjectBaseCode/Validation_Dataset/fs_static/images/*.jpg' --method msp\n",
        "\n",
        "\n",
        "############ evalAnomaly MAXENTROPY ############\n",
        "\n",
        "\n",
        "!python evalAnomaly.py --input '/content/AnomalySegmentation_CourseProjectBaseCode/Validation_Dataset/FS_LostFound_full/images/*.png' --method maxEntr\n",
        "!python evalAnomaly.py --input '/content/AnomalySegmentation_CourseProjectBaseCode/Validation_Dataset/RoadAnomaly/images/*.jpg' --method maxEntr\n",
        "!python evalAnomaly.py --input '/content/AnomalySegmentation_CourseProjectBaseCode/Validation_Dataset/RoadAnomaly21/images/*.png' --method maxEntr\n",
        "!python evalAnomaly.py --input '/content/AnomalySegmentation_CourseProjectBaseCode/Validation_Dataset/RoadObsticle21/images/*.webp' --method maxEntr\n",
        "!python evalAnomaly.py --input '/content/AnomalySegmentation_CourseProjectBaseCode/Validation_Dataset/fs_static/images/*.jpg' --method maxEntr\n",
        "\n",
        "############ miou ############\n",
        "\n",
        "# mIoU eval on Cityscapes validation set (ERFNet)\n",
        "%cd /content/AnomalySegmentation_CourseProjectBaseCode/eval\n",
        "!python eval_iou.py --datadir /content/AnomalySegmentation_CourseProjectBaseCode/Cityscapes --subset val --model ERFNet --method msp\n",
        "!python eval_iou.py --datadir /content/AnomalySegmentation_CourseProjectBaseCode/Cityscapes --subset val --model ERFNet --method maxLogit\n",
        "!python eval_iou.py --datadir /content/AnomalySegmentation_CourseProjectBaseCode/Cityscapes --subset val --model ERFNet --method maxEntr\n",
        "\n",
        "\n",
        "\n"
      ],
      "metadata": {
        "id": "d2WfrkSw6ewt"
      },
      "execution_count": null,
      "outputs": []
    },
    {
      "cell_type": "markdown",
      "source": [
        "# **2.B Temperature scaling**"
      ],
      "metadata": {
        "id": "hC4VFkbj71tw"
      }
    },
    {
      "cell_type": "code",
      "source": [
        "############ evalAnomaly  ############\n",
        "%cd /content/AnomalySegmentation_CourseProjectBaseCode/eval\n",
        "!python evalAnomaly.py --input '/content/AnomalySegmentation_CourseProjectBaseCode/Validation_Dataset/FS_LostFound_full/images/*.png' --method msp --temperature 0.5\n",
        "!python evalAnomaly.py --input '/content/AnomalySegmentation_CourseProjectBaseCode/Validation_Dataset/RoadAnomaly/images/*.jpg' --method msp --temperature 0.75\n",
        "!python evalAnomaly.py --input '/content/AnomalySegmentation_CourseProjectBaseCode/Validation_Dataset/RoadAnomaly21/images/*.png' --method msp --temperature 1.1\n",
        "!python evalAnomaly.py --input '/content/AnomalySegmentation_CourseProjectBaseCode/Validation_Dataset/RoadObsticle21/images/*.webp' --method msp --temperature -1\n",
        "\n",
        "\n",
        "############ miou ############\n",
        "\n",
        "# mIoU eval on Cityscapes validation set (ERFNet)\n",
        "%cd /content/AnomalySegmentation_CourseProjectBaseCode/eval\n",
        "!python eval_iou.py --datadir /content/AnomalySegmentation_CourseProjectBaseCode/Cityscapes --subset val --model ERFNet --method msp --temperature 0.5\n",
        "!python eval_iou.py --datadir /content/AnomalySegmentation_CourseProjectBaseCode/Cityscapes --subset val --model ERFNet --method msp --temperature 0.75\n",
        "!python eval_iou.py --datadir /content/AnomalySegmentation_CourseProjectBaseCode/Cityscapes --subset val --model ERFNet --method msp --temperature 1.1\n",
        "!python eval_iou.py --datadir /content/AnomalySegmentation_CourseProjectBaseCode/Cityscapes --subset val --model ERFNet --method msp --temperature 1.85\n",
        "\n",
        "\n",
        "\n"
      ],
      "metadata": {
        "id": "NoX8WrBb76Bd"
      },
      "execution_count": null,
      "outputs": []
    },
    {
      "cell_type": "markdown",
      "source": [
        "# **3.Void Classifier**"
      ],
      "metadata": {
        "id": "h7e7tOac9qHj"
      }
    },
    {
      "cell_type": "code",
      "source": [
        "# mIoU eval on Cityscapes validation set (ENet) void Classifier\n",
        "%cd /content/AnomalySegmentation_CourseProjectBaseCode/eval\n",
        "!python eval_iou.py --datadir /content/AnomalySegmentation_CourseProjectBaseCode/Cityscapes --subset val --model ENet --loadWeights ENet.pth --loadModel ENet\n",
        "\n",
        "# mIoU eval on Cityscapes validation set (ERFNet) void Classifier\n",
        "%cd /content/AnomalySegmentation_CourseProjectBaseCode/eval\n",
        "!python eval_iou.py --datadir /content/AnomalySegmentation_CourseProjectBaseCode/Cityscapes --subset val --model ERFNet --loadWeights erfnet_20.pth --loadModel erfnet.py\n",
        "\n",
        "# mIoU eval on Cityscapes validation set (BiSeNet) void Classifier\n",
        "%cd /content/AnomalySegmentation_CourseProjectBaseCode/eval\n",
        "!python eval_iou.py --datadir /content/AnomalySegmentation_CourseProjectBaseCode/Cityscapes --subset val --model BiSeNet --loadWeights bisenetv1.pth --loadModel BiSeNetV1.py\n",
        "\n"
      ],
      "metadata": {
        "id": "bHk9duoK9uEh"
      },
      "execution_count": null,
      "outputs": []
    },
    {
      "cell_type": "code",
      "source": [
        "######################## evaluation EFNET tramite void classifier ###################################\n",
        "%cd /content/AnomalySegmentation_CourseProjectBaseCode/eval\n",
        "!python eval_voidClassifier.py --input '/content/AnomalySegmentation_CourseProjectBaseCode/Validation_Dataset/FS_LostFound_full/images/*.png' --model ERFNet --loadWeights erfnet_20.pth --loadModel ERFNet.py\n",
        "!python eval_voidClassifier.py --input '/content/AnomalySegmentation_CourseProjectBaseCode/Validation_Dataset/RoadAnomaly/images/*.jpg' --model ERFNet --loadWeights erfnet_20.pth --loadModel ERFNet.py\n",
        "!python eval_voidClassifier.py --input '/content/AnomalySegmentation_CourseProjectBaseCode/Validation_Dataset/RoadAnomaly21/images/*.png' --model ERFNet --loadWeights erfnet_20.pth --loadModel ERFNet.py\n",
        "!python eval_voidClassifier.py --input '/content/AnomalySegmentation_CourseProjectBaseCode/Validation_Dataset/RoadObsticle21/images/*.webp' --model ERFNet --loadWeights erfnet_20.pth --loadModel ERFNet.py\n",
        "!python eval_voidClassifier.py --input '/content/AnomalySegmentation_CourseProjectBaseCode/Validation_Dataset/fs_static/images/*.jpg' --model ERFNet --loadWeights erfnet_20.pth --loadModel ERFNet.py\n",
        "\n",
        "\n",
        "######################## evaluation ENET tramite void classifier ###################################\n",
        "%cd /content/AnomalySegmentation_CourseProjectBaseCode/eval\n",
        "!python eval_voidClassifier.py --input '/content/AnomalySegmentation_CourseProjectBaseCode/Validation_Dataset/FS_LostFound_full/images/*.png' --model ENet --loadWeights ENet.pth --loadModel ENet.py\n",
        "!python eval_voidClassifier.py --input '/content/AnomalySegmentation_CourseProjectBaseCode/Validation_Dataset/RoadAnomaly/images/*.jpg' --model ENet --loadWeights ENet.pth --loadModel ENet.py\n",
        "!python eval_voidClassifier.py --input '/content/AnomalySegmentation_CourseProjectBaseCode/Validation_Dataset/RoadAnomaly21/images/*.png' --model ENet --loadWeights ENet.pth --loadModel ENet.py\n",
        "!python eval_voidClassifier.py --input '/content/AnomalySegmentation_CourseProjectBaseCode/Validation_Dataset/RoadObsticle21/images/*.webp' --model ENet --loadWeights ENet.pth --loadModel ENet.py\n",
        "!python eval_voidClassifier.py --input '/content/AnomalySegmentation_CourseProjectBaseCode/Validation_Dataset/fs_static/images/*.jpg' --model ENet --loadWeights ENet.pth --loadModel ENet.py\n",
        "\n",
        "\n",
        "######################## evaluation BISENET tramite void classifier ###################################\n",
        "%cd /content/AnomalySegmentation_CourseProjectBaseCode/eval\n",
        "!python eval_voidClassifier.py --input '/content/AnomalySegmentation_CourseProjectBaseCode/Validation_Dataset/FS_LostFound_full/images/*.png' --model BiSeNet --loadWeights bisenetv1.pth --loadModel BiSeNetV1.py\n",
        "!python eval_voidClassifier.py --input '/content/AnomalySegmentation_CourseProjectBaseCode/Validation_Dataset/RoadAnomaly/images/*.jpg' --model BiSeNet --loadWeights bisenetv1.pth --loadModel BiSeNetV1.py\n",
        "!python eval_voidClassifier.py --input '/content/AnomalySegmentation_CourseProjectBaseCode/Validation_Dataset/RoadAnomaly21/images/*.png' --model BiSeNet --loadWeights bisenetv1.pth --loadModel BiSeNetV1.py\n",
        "!python eval_voidClassifier.py --input '/content/AnomalySegmentation_CourseProjectBaseCode/Validation_Dataset/RoadObsticle21/images/*.webp' --model BiSeNet --loadWeights bisenetv1.pth --loadModel BiSeNetV1.py\n",
        "!python eval_voidClassifier.py --input '/content/AnomalySegmentation_CourseProjectBaseCode/Validation_Dataset/fs_static/images/*.jpg' --model BiSeNet --loadWeights bisenetv1.pth --loadModel BiSeNetV1.py"
      ],
      "metadata": {
        "id": "NljYapR_-Onx"
      },
      "execution_count": null,
      "outputs": []
    },
    {
      "cell_type": "markdown",
      "source": [
        "# **4. Project Extention: Effect of Training Loss function**"
      ],
      "metadata": {
        "id": "PHECHLeN-5Ic"
      }
    },
    {
      "cell_type": "markdown",
      "source": [
        "LOGIT NORM WITH FOCAL LOSS"
      ],
      "metadata": {
        "id": "JUOHqBDVAZlw"
      }
    },
    {
      "cell_type": "code",
      "source": [
        "# Inference logit_norm_with_focal_loss\n",
        "%cd /content/AnomalySegmentation_CourseProjectBaseCode/eval\n",
        "!python evalAnomaly.py --input '/content/AnomalySegmentation_CourseProjectBaseCode/Validation_Dataset/FS_LostFound_full/images/*.png' --datadir /content/AnomalySegmentation_CourseProjectBaseCode/Cityscapes --method msp --loadDir \"../save/logit_norm_with_focal_loss/\" --loadWeights \"model_best.pth\"\n",
        "!python evalAnomaly.py --input '/content/AnomalySegmentation_CourseProjectBaseCode/Validation_Dataset/RoadAnomaly/images/*.jpg' --datadir /content/AnomalySegmentation_CourseProjectBaseCode/Cityscapes --method msp --loadDir \"../save/logit_norm_with_focal_loss/\" --loadWeights \"model_best.pth\"\n",
        "!python evalAnomaly.py --input '/content/AnomalySegmentation_CourseProjectBaseCode/Validation_Dataset/RoadAnomaly21/images/*.png' --datadir /content/AnomalySegmentation_CourseProjectBaseCode/Cityscapes --method msp --loadDir \"../save/logit_norm_with_focal_loss/\" --loadWeights \"model_best.pth\"\n",
        "!python evalAnomaly.py --input '/content/AnomalySegmentation_CourseProjectBaseCode/Validation_Dataset/RoadObsticle21/images/*.webp' --datadir /content/AnomalySegmentation_CourseProjectBaseCode/Cityscapes --method msp --loadDir \"../save/logit_norm_with_focal_loss/\" --loadWeights \"model_best.pth\"\n",
        "!python evalAnomaly.py --input '/content/AnomalySegmentation_CourseProjectBaseCode/Validation_Dataset/fs_static/images/*.jpg' --datadir /content/AnomalySegmentation_CourseProjectBaseCode/Cityscapes --method msp --loadDir \"../save/logit_norm_with_focal_loss/\" --loadWeights \"model_best.pth\"\n",
        "\n",
        "\n",
        "#### miou logit_norm_with_focal_loss\n",
        "\n",
        "!python eval_iou.py --datadir /content/AnomalySegmentation_CourseProjectBaseCode/Cityscapes --subset val --method msp --loadDir \"../save/logit_norm_with_focal_loss/\" --loadWeights \"model_best.pth\"\n",
        "\n"
      ],
      "metadata": {
        "id": "UjObXjdj_BFv"
      },
      "execution_count": null,
      "outputs": []
    },
    {
      "cell_type": "markdown",
      "source": [
        "LOGIT NORM"
      ],
      "metadata": {
        "id": "NWR6xrqsA_nF"
      }
    },
    {
      "cell_type": "code",
      "source": [
        "######## logit_norm\n",
        "%cd /content/AnomalySegmentation_CourseProjectBaseCode/eval\n",
        "!python evalAnomaly.py --input '/content/AnomalySegmentation_CourseProjectBaseCode/Validation_Dataset/FS_LostFound_full/images/*.png' --datadir /content/AnomalySegmentation_CourseProjectBaseCode/Cityscapes --method msp --loadDir \"../save/logit_norm/\" --loadWeights \"model_best.pth\"\n",
        "!python evalAnomaly.py --input '/content/AnomalySegmentation_CourseProjectBaseCode/Validation_Dataset/RoadAnomaly/images/*.jpg' --datadir /content/AnomalySegmentation_CourseProjectBaseCode/Cityscapes --method msp --loadDir \"../save/logit_norm/\" --loadWeights \"model_best.pth\"\n",
        "!python evalAnomaly.py --input '/content/AnomalySegmentation_CourseProjectBaseCode/Validation_Dataset/RoadAnomaly21/images/*.png' --datadir /content/AnomalySegmentation_CourseProjectBaseCode/Cityscapes --method msp --loadDir \"../save/logit_norm/\" --loadWeights \"model_best.pth\"\n",
        "!python evalAnomaly.py --input '/content/AnomalySegmentation_CourseProjectBaseCode/Validation_Dataset/RoadObsticle21/images/*.webp' --datadir /content/AnomalySegmentation_CourseProjectBaseCode/Cityscapes --method msp --loadDir \"../save/logit_norm/\" --loadWeights \"model_best.pth\"\n",
        "!python evalAnomaly.py --input '/content/AnomalySegmentation_CourseProjectBaseCode/Validation_Dataset/fs_static/images/*.jpg' --datadir /content/AnomalySegmentation_CourseProjectBaseCode/Cityscapes --method msp --loadDir \"../save/logit_norm/\" --loadWeights \"model_best.pth\"\n",
        "\n",
        "#### miou logit_norm\n",
        "\n",
        "!python eval_iou.py --datadir /content/AnomalySegmentation_CourseProjectBaseCode/Cityscapes --subset val --method msp --loadDir \"../save/logit_norm/\" --loadWeights \"model_best.pth\"\n",
        "\n",
        "\n"
      ],
      "metadata": {
        "id": "b288CdwHAxR6"
      },
      "execution_count": null,
      "outputs": []
    },
    {
      "cell_type": "markdown",
      "source": [
        "LOGIT NORM WITH CROSS ENTROPY"
      ],
      "metadata": {
        "id": "471uaoTDBBra"
      }
    },
    {
      "cell_type": "code",
      "source": [
        "######## logit_norm_cross_entropy\n",
        "%cd /content/AnomalySegmentation_CourseProjectBaseCode/eval\n",
        "!python evalAnomaly.py --input '/content/AnomalySegmentation_CourseProjectBaseCode/Validation_Dataset/FS_LostFound_full/images/*.png' --datadir /content/AnomalySegmentation_CourseProjectBaseCode/Cityscapes --method msp --loadDir \"../save/logit_norm_cross_entropy/\" --loadWeights \"model_best.pth\"\n",
        "!python evalAnomaly.py --input '/content/AnomalySegmentation_CourseProjectBaseCode/Validation_Dataset/RoadAnomaly/images/*.jpg' --datadir /content/AnomalySegmentation_CourseProjectBaseCode/Cityscapes --method msp --loadDir \"../save/logit_norm_cross_entropy/\" --loadWeights \"model_best.pth\"\n",
        "!python evalAnomaly.py --input '/content/AnomalySegmentation_CourseProjectBaseCode/Validation_Dataset/RoadAnomaly21/images/*.png' --datadir /content/AnomalySegmentation_CourseProjectBaseCode/Cityscapes --method msp --loadDir \"../save/logit_norm_cross_entropy/\" --loadWeights \"model_best.pth\"\n",
        "!python evalAnomaly.py --input '/content/AnomalySegmentation_CourseProjectBaseCode/Validation_Dataset/RoadObsticle21/images/*.webp' --datadir /content/AnomalySegmentation_CourseProjectBaseCode/Cityscapes --method msp --loadDir \"../save/logit_norm_cross_entropy/\" --loadWeights \"model_best.pth\"\n",
        "!python evalAnomaly.py --input '/content/AnomalySegmentation_CourseProjectBaseCode/Validation_Dataset/fs_static/images/*.jpg' --datadir /content/AnomalySegmentation_CourseProjectBaseCode/Cityscapes --method msp --loadDir \"../save/logit_norm_cross_entropy/\" --loadWeights \"model_best.pth\"\n",
        "\n",
        "#### miou logit_norm_cross_entropy\n",
        "\n",
        "!python eval_iou.py --datadir /content/AnomalySegmentation_CourseProjectBaseCode/Cityscapes --subset val --method msp --loadDir \"../save/logit_norm_cross_entropy/\" --loadWeights \"model_best.pth\"\n"
      ],
      "metadata": {
        "id": "A8der_CbBD-s"
      },
      "execution_count": null,
      "outputs": []
    },
    {
      "cell_type": "markdown",
      "source": [
        "JACCARD LOSS"
      ],
      "metadata": {
        "id": "b99Xp7R5BSb2"
      }
    },
    {
      "cell_type": "code",
      "source": [
        "######## jaccard\n",
        "%cd /content/AnomalySegmentation_CourseProjectBaseCode/eval\n",
        "!python evalAnomaly.py --input '/content/AnomalySegmentation_CourseProjectBaseCode/Validation_Dataset/FS_LostFound_full/images/*.png'  --datadir /content/AnomalySegmentation_CourseProjectBaseCode/Cityscapes --method msp --loadDir \"../save/jacc_solo/\" --loadWeights \"model_best.pth\"\n",
        "!python evalAnomaly.py --input '/content/AnomalySegmentation_CourseProjectBaseCode/Validation_Dataset/RoadAnomaly/images/*.jpg' --datadir /content/AnomalySegmentation_CourseProjectBaseCode/Cityscapes --method msp --loadDir \"../save/jacc_solo/\" --loadWeights \"model_best.pth\"\n",
        "!python evalAnomaly.py --input '/content/AnomalySegmentation_CourseProjectBaseCode/Validation_Dataset/RoadAnomaly21/images/*.png' --datadir /content/AnomalySegmentation_CourseProjectBaseCode/Cityscapes --method msp --loadDir \"../save/jacc_solo/\" --loadWeights \"model_best.pth\"\n",
        "!python evalAnomaly.py --input '/content/AnomalySegmentation_CourseProjectBaseCode/Validation_Dataset/RoadObsticle21/images/*.webp' --datadir /content/AnomalySegmentation_CourseProjectBaseCode/Cityscapes --method msp --loadDir \"../save/jacc_solo/\" --loadWeights \"model_best.pth\"\n",
        "!python evalAnomaly.py --input '/content/AnomalySegmentation_CourseProjectBaseCode/Validation_Dataset/fs_static/images/*.jpg' --datadir /content/AnomalySegmentation_CourseProjectBaseCode/Cityscapes --method msp --loadDir \"../save/jacc_solo/\" --loadWeights \"model_best.pth\"\n",
        "\n",
        "#### miou jaccard\n",
        "\n",
        "!python eval_iou.py --datadir /content/AnomalySegmentation_CourseProjectBaseCode/Cityscapes --subset val --method msp --loadDir \"../save/jacc_solo/\" --loadWeights \"model_best.pth\"\n"
      ],
      "metadata": {
        "id": "s57p55WZBPse"
      },
      "execution_count": null,
      "outputs": []
    },
    {
      "cell_type": "markdown",
      "source": [
        "JACCARD WITH FOCAL LOSS"
      ],
      "metadata": {
        "id": "w4cLAac7BmbW"
      }
    },
    {
      "cell_type": "code",
      "source": [
        "######## JACCARD focal loss\n",
        "%cd /content/AnomalySegmentation_CourseProjectBaseCode/eval\n",
        "!python evalAnomaly.py --input '/content/AnomalySegmentation_CourseProjectBaseCode/Validation_Dataset/FS_LostFound_full/images/*.png' --datadir /content/AnomalySegmentation_CourseProjectBaseCode/Cityscapes  --method msp --loadDir \"../save/jacc_focal_loss/\" --loadWeights \"model_best.pth\"\n",
        "!python evalAnomaly.py --input '/content/AnomalySegmentation_CourseProjectBaseCode/Validation_Dataset/RoadAnomaly/images/*.jpg' --datadir /content/AnomalySegmentation_CourseProjectBaseCode/Cityscapes --method msp --loadDir \"../save/jacc_focal_loss/\" --loadWeights \"model_best.pth\"\n",
        "!python evalAnomaly.py --input '/content/AnomalySegmentation_CourseProjectBaseCode/Validation_Dataset/RoadAnomaly21/images/*.png' --datadir /content/AnomalySegmentation_CourseProjectBaseCode/Cityscapes --method msp --loadDir \"../save/jacc_focal_loss/\" --loadWeights \"model_best.pth\"\n",
        "!python evalAnomaly.py --input '/content/AnomalySegmentation_CourseProjectBaseCode/Validation_Dataset/RoadObsticle21/images/*.webp' --datadir /content/AnomalySegmentation_CourseProjectBaseCode/Cityscapes --method msp --loadDir \"../save/jacc_focal_loss/\" --loadWeights \"model_best.pth\"\n",
        "!python evalAnomaly.py --input '/content/AnomalySegmentation_CourseProjectBaseCode/Validation_Dataset/fs_static/images/*.jpg' --datadir /content/AnomalySegmentation_CourseProjectBaseCode/Cityscapes --method msp --loadDir \"../save/jacc_focal_loss/\" --loadWeights \"model_best.pth\"\n",
        "\n",
        "#### miou jaccard focal loss\n",
        "\n",
        "!python eval_iou.py --datadir /content/AnomalySegmentation_CourseProjectBaseCode/Cityscapes --subset val --method msp --loadDir \"../save/jacc_focal_loss/\" --loadWeights \"model_best.pth\"\n"
      ],
      "metadata": {
        "id": "g7MSX11lBpMk"
      },
      "execution_count": null,
      "outputs": []
    },
    {
      "cell_type": "markdown",
      "source": [
        "JACCARD WITH CROSS ENTROPY\n"
      ],
      "metadata": {
        "id": "LgJI49G9B1uk"
      }
    },
    {
      "cell_type": "code",
      "source": [
        "######## jacc_cross_entropy\n",
        "%cd /content/AnomalySegmentation_CourseProjectBaseCode/eval\n",
        "!python evalAnomaly.py --input '/content/AnomalySegmentation_CourseProjectBaseCode/Validation_Dataset/FS_LostFound_full/images/*.png' --datadir /content/AnomalySegmentation_CourseProjectBaseCode/Cityscapes --method msp --loadDir \"../save/jacc_cross_entropy/\" --loadWeights \"model_best.pth\"\n",
        "!python evalAnomaly.py --input '/content/AnomalySegmentation_CourseProjectBaseCode/Validation_Dataset/RoadAnomaly/images/*.jpg' --datadir /content/AnomalySegmentation_CourseProjectBaseCode/Cityscapes --method msp --loadDir \"../save/jacc_cross_entropy/\" --loadWeights \"model_best.pth\"\n",
        "!python evalAnomaly.py --input '/content/AnomalySegmentation_CourseProjectBaseCode/Validation_Dataset/RoadAnomaly21/images/*.png' --datadir /content/AnomalySegmentation_CourseProjectBaseCode/Cityscapes --method msp --loadDir \"../save/jacc_cross_entropy/\" --loadWeights \"model_best.pth\"\n",
        "!python evalAnomaly.py --input '/content/AnomalySegmentation_CourseProjectBaseCode/Validation_Dataset/RoadObsticle21/images/*.webp' --datadir /content/AnomalySegmentation_CourseProjectBaseCode/Cityscapes --method msp --loadDir \"../save/jacc_cross_entropy/\" --loadWeights \"model_best.pth\"\n",
        "!python evalAnomaly.py --input '/content/AnomalySegmentation_CourseProjectBaseCode/Validation_Dataset/fs_static/images/*.jpg' --datadir /content/AnomalySegmentation_CourseProjectBaseCode/Cityscapes --method msp --loadDir \"../save/jacc_cross_entropy/\" --loadWeights \"model_best.pth\"\n",
        "\n",
        "#### miou jaccard focal loss\n",
        "\n",
        "!python eval_iou.py --datadir /content/AnomalySegmentation_CourseProjectBaseCode/Cityscapes --subset val --method msp --loadDir \"../save/jacc_cross_entropy/\" --loadWeights \"model_best.pth\"\n",
        "\n"
      ],
      "metadata": {
        "id": "7imA3EM_B4WO"
      },
      "execution_count": null,
      "outputs": []
    }
  ]
}