{
  "cells": [
    {
      "cell_type": "markdown",
      "metadata": {
        "id": "view-in-github",
        "colab_type": "text"
      },
      "source": [
        "<a href=\"https://colab.research.google.com/github/ImBlurryF4c3/AnomalySegmentation_CourseProjectBaseCode/blob/fede/AML_Project.ipynb\" target=\"_parent\"><img src=\"https://colab.research.google.com/assets/colab-badge.svg\" alt=\"Open In Colab\"/></a>"
      ]
    },
    {
      "cell_type": "code",
      "execution_count": 3,
      "metadata": {
        "colab": {
          "base_uri": "https://localhost:8080/"
        },
        "id": "ulD-oDvbHFia",
        "outputId": "92996e20-15f4-435f-f794-56068df0154f"
      },
      "outputs": [
        {
          "output_type": "stream",
          "name": "stdout",
          "text": [
            "Cloning into 'AnomalySegmentation_CourseProjectBaseCode'...\n",
            "remote: Enumerating objects: 3587, done.\u001b[K\n",
            "remote: Counting objects: 100% (60/60), done.\u001b[K\n",
            "remote: Compressing objects: 100% (36/36), done.\u001b[K\n",
            "remote: Total 3587 (delta 31), reused 36 (delta 24), pack-reused 3527\u001b[K\n",
            "Receiving objects: 100% (3587/3587), 1.47 GiB | 43.22 MiB/s, done.\n",
            "Resolving deltas: 100% (544/544), done.\n",
            "Updating files: 100% (3496/3496), done.\n",
            "/content/AnomalySegmentation_CourseProjectBaseCode/eval/AnomalySegmentation_CourseProjectBaseCode\n",
            "Branch 'fede' set up to track remote branch 'fede' from 'origin'.\n",
            "Switched to a new branch 'fede'\n",
            "Requirement already satisfied: cityscapesscripts in /usr/local/lib/python3.10/dist-packages (2.2.2)\n",
            "Requirement already satisfied: numpy in /usr/local/lib/python3.10/dist-packages (from cityscapesscripts) (1.23.5)\n",
            "Requirement already satisfied: matplotlib in /usr/local/lib/python3.10/dist-packages (from cityscapesscripts) (3.7.1)\n",
            "Requirement already satisfied: pillow in /usr/local/lib/python3.10/dist-packages (from cityscapesscripts) (9.4.0)\n",
            "Requirement already satisfied: appdirs in /usr/local/lib/python3.10/dist-packages (from cityscapesscripts) (1.4.4)\n",
            "Requirement already satisfied: pyquaternion in /usr/local/lib/python3.10/dist-packages (from cityscapesscripts) (0.9.9)\n",
            "Requirement already satisfied: coloredlogs in /usr/local/lib/python3.10/dist-packages (from cityscapesscripts) (15.0.1)\n",
            "Requirement already satisfied: tqdm in /usr/local/lib/python3.10/dist-packages (from cityscapesscripts) (4.66.1)\n",
            "Requirement already satisfied: typing in /usr/local/lib/python3.10/dist-packages (from cityscapesscripts) (3.7.4.3)\n",
            "Requirement already satisfied: humanfriendly>=9.1 in /usr/local/lib/python3.10/dist-packages (from coloredlogs->cityscapesscripts) (10.0)\n",
            "Requirement already satisfied: contourpy>=1.0.1 in /usr/local/lib/python3.10/dist-packages (from matplotlib->cityscapesscripts) (1.2.0)\n",
            "Requirement already satisfied: cycler>=0.10 in /usr/local/lib/python3.10/dist-packages (from matplotlib->cityscapesscripts) (0.12.1)\n",
            "Requirement already satisfied: fonttools>=4.22.0 in /usr/local/lib/python3.10/dist-packages (from matplotlib->cityscapesscripts) (4.47.2)\n",
            "Requirement already satisfied: kiwisolver>=1.0.1 in /usr/local/lib/python3.10/dist-packages (from matplotlib->cityscapesscripts) (1.4.5)\n",
            "Requirement already satisfied: packaging>=20.0 in /usr/local/lib/python3.10/dist-packages (from matplotlib->cityscapesscripts) (23.2)\n",
            "Requirement already satisfied: pyparsing>=2.3.1 in /usr/local/lib/python3.10/dist-packages (from matplotlib->cityscapesscripts) (3.1.1)\n",
            "Requirement already satisfied: python-dateutil>=2.7 in /usr/local/lib/python3.10/dist-packages (from matplotlib->cityscapesscripts) (2.8.2)\n",
            "Requirement already satisfied: six>=1.5 in /usr/local/lib/python3.10/dist-packages (from python-dateutil>=2.7->matplotlib->cityscapesscripts) (1.16.0)\n",
            "/content/AnomalySegmentation_CourseProjectBaseCode/Cityscapes\n",
            "Processing 500 annotation files\n",
            "Progress: 100.0 % /content/AnomalySegmentation_CourseProjectBaseCode/eval\n",
            "Requirement already satisfied: ood_metrics in /usr/local/lib/python3.10/dist-packages (1.1.2)\n",
            "Requirement already satisfied: matplotlib<4.0,>=3.0 in /usr/local/lib/python3.10/dist-packages (from ood_metrics) (3.7.1)\n",
            "Requirement already satisfied: numpy<2.0,>=1.22 in /usr/local/lib/python3.10/dist-packages (from ood_metrics) (1.23.5)\n",
            "Requirement already satisfied: scikit-learn<2.0,>=1.0 in /usr/local/lib/python3.10/dist-packages (from ood_metrics) (1.2.2)\n",
            "Requirement already satisfied: contourpy>=1.0.1 in /usr/local/lib/python3.10/dist-packages (from matplotlib<4.0,>=3.0->ood_metrics) (1.2.0)\n",
            "Requirement already satisfied: cycler>=0.10 in /usr/local/lib/python3.10/dist-packages (from matplotlib<4.0,>=3.0->ood_metrics) (0.12.1)\n",
            "Requirement already satisfied: fonttools>=4.22.0 in /usr/local/lib/python3.10/dist-packages (from matplotlib<4.0,>=3.0->ood_metrics) (4.47.2)\n",
            "Requirement already satisfied: kiwisolver>=1.0.1 in /usr/local/lib/python3.10/dist-packages (from matplotlib<4.0,>=3.0->ood_metrics) (1.4.5)\n",
            "Requirement already satisfied: packaging>=20.0 in /usr/local/lib/python3.10/dist-packages (from matplotlib<4.0,>=3.0->ood_metrics) (23.2)\n",
            "Requirement already satisfied: pillow>=6.2.0 in /usr/local/lib/python3.10/dist-packages (from matplotlib<4.0,>=3.0->ood_metrics) (9.4.0)\n",
            "Requirement already satisfied: pyparsing>=2.3.1 in /usr/local/lib/python3.10/dist-packages (from matplotlib<4.0,>=3.0->ood_metrics) (3.1.1)\n",
            "Requirement already satisfied: python-dateutil>=2.7 in /usr/local/lib/python3.10/dist-packages (from matplotlib<4.0,>=3.0->ood_metrics) (2.8.2)\n",
            "Requirement already satisfied: scipy>=1.3.2 in /usr/local/lib/python3.10/dist-packages (from scikit-learn<2.0,>=1.0->ood_metrics) (1.11.4)\n",
            "Requirement already satisfied: joblib>=1.1.1 in /usr/local/lib/python3.10/dist-packages (from scikit-learn<2.0,>=1.0->ood_metrics) (1.3.2)\n",
            "Requirement already satisfied: threadpoolctl>=2.0.0 in /usr/local/lib/python3.10/dist-packages (from scikit-learn<2.0,>=1.0->ood_metrics) (3.2.0)\n",
            "Requirement already satisfied: six>=1.5 in /usr/local/lib/python3.10/dist-packages (from python-dateutil>=2.7->matplotlib<4.0,>=3.0->ood_metrics) (1.16.0)\n"
          ]
        }
      ],
      "source": [
        "#Cloning repo\n",
        "!git clone https://github.com/ImBlurryF4c3/AnomalySegmentation_CourseProjectBaseCode.git\n",
        "%cd AnomalySegmentation_CourseProjectBaseCode\n",
        "!git checkout fede\n",
        "\n",
        "#Download Cityscapes Dataset\n",
        "!python -m pip install cityscapesscripts\n",
        "\n",
        "# Preparing Cityscapes Dataset (val)\n",
        "%cd /content/AnomalySegmentation_CourseProjectBaseCode/Cityscapes/\n",
        "!CITYSCAPES_DATASET='.' csCreateTrainIdLabelImgs\n",
        "\n",
        "%cd /content/AnomalySegmentation_CourseProjectBaseCode/eval\n",
        "!pip install ood_metrics"
      ]
    },
    {
      "cell_type": "code",
      "execution_count": 4,
      "metadata": {
        "id": "uXfe7CHhIzSH",
        "colab": {
          "base_uri": "https://localhost:8080/"
        },
        "outputId": "7dfe36fc-6f8b-426a-a084-bfece4847576"
      },
      "outputs": [
        {
          "output_type": "stream",
          "name": "stdout",
          "text": [
            "/content/AnomalySegmentation_CourseProjectBaseCode/eval\n",
            "Loading model: ../trained_models/erfnet.py\n",
            "Loading weights: ../trained_models/erfnet_pretrained.pth\n",
            "Model and weights LOADED successfully\n",
            "/content/AnomalySegmentation_CourseProjectBaseCode/Cityscapes/leftImg8bit/val /content/AnomalySegmentation_CourseProjectBaseCode/Cityscapes/gtFine/val\n",
            "/usr/local/lib/python3.10/dist-packages/torch/utils/data/dataloader.py:557: UserWarning: This DataLoader will create 4 worker processes in total. Our suggested max number of worker in current system is 2, which is smaller than what this DataLoader is going to create. Please be aware that excessive worker creation might get DataLoader running slow or even freeze, lower the worker number to avoid potential slowness/freeze if necessary.\n",
            "  warnings.warn(_create_warning_msg(\n",
            "---------------------------------------\n",
            "Took  80.64419746398926 seconds\n",
            "MEAN IoU: 72.20% with method: msp with temperature: 1.0\n",
            "Loading model: ../trained_models/erfnet.py\n",
            "Loading weights: ../trained_models/erfnet_pretrained.pth\n",
            "Model and weights LOADED successfully\n",
            "/content/AnomalySegmentation_CourseProjectBaseCode/Cityscapes/leftImg8bit/val /content/AnomalySegmentation_CourseProjectBaseCode/Cityscapes/gtFine/val\n",
            "/usr/local/lib/python3.10/dist-packages/torch/utils/data/dataloader.py:557: UserWarning: This DataLoader will create 4 worker processes in total. Our suggested max number of worker in current system is 2, which is smaller than what this DataLoader is going to create. Please be aware that excessive worker creation might get DataLoader running slow or even freeze, lower the worker number to avoid potential slowness/freeze if necessary.\n",
            "  warnings.warn(_create_warning_msg(\n",
            "---------------------------------------\n",
            "Took  77.5801043510437 seconds\n",
            "MEAN IoU: 72.20% with method: maxLogit with temperature: 1.0\n",
            "Loading model: ../trained_models/erfnet.py\n",
            "Loading weights: ../trained_models/erfnet_pretrained.pth\n",
            "Model and weights LOADED successfully\n",
            "/content/AnomalySegmentation_CourseProjectBaseCode/Cityscapes/leftImg8bit/val /content/AnomalySegmentation_CourseProjectBaseCode/Cityscapes/gtFine/val\n",
            "/usr/local/lib/python3.10/dist-packages/torch/utils/data/dataloader.py:557: UserWarning: This DataLoader will create 4 worker processes in total. Our suggested max number of worker in current system is 2, which is smaller than what this DataLoader is going to create. Please be aware that excessive worker creation might get DataLoader running slow or even freeze, lower the worker number to avoid potential slowness/freeze if necessary.\n",
            "  warnings.warn(_create_warning_msg(\n",
            "---------------------------------------\n",
            "Took  77.86553740501404 seconds\n",
            "MEAN IoU: 72.20% with method: maxEntr with temperature: 1.0\n"
          ]
        }
      ],
      "source": [
        "#mIoU\n",
        "\n",
        "%cd /content/AnomalySegmentation_CourseProjectBaseCode/eval\n",
        "!python eval_iou.py --datadir /content/AnomalySegmentation_CourseProjectBaseCode/Cityscapes --subset val --method msp --temperature 1.0\n",
        "!python eval_iou.py --datadir /content/AnomalySegmentation_CourseProjectBaseCode/Cityscapes --subset val --method maxLogit --temperature 1.0\n",
        "!python eval_iou.py --datadir /content/AnomalySegmentation_CourseProjectBaseCode/Cityscapes --subset val --method maxEntr --temperature 1.0\n"
      ]
    },
    {
      "cell_type": "code",
      "execution_count": 2,
      "metadata": {
        "id": "uG7lfdglI-Cs",
        "colab": {
          "base_uri": "https://localhost:8080/"
        },
        "outputId": "902496e5-73af-4d85-d229-928bacd2fbfb"
      },
      "outputs": [
        {
          "output_type": "stream",
          "name": "stdout",
          "text": [
            "/content/AnomalySegmentation_CourseProjectBaseCode/eval\n",
            "Loading model: ../trained_models/erfnet.py\n",
            "Loading weights: ../trained_models/erfnet_pretrained.pth\n",
            "Model and weights LOADED successfully\n",
            "AUPRC score: 0.21394580339077093\n",
            "FPR@TPR95: 96.44090608320006\n",
            "Temperature : 1.0\n",
            "Loading model: ../trained_models/erfnet.py\n",
            "Loading weights: ../trained_models/erfnet_pretrained.pth\n",
            "Model and weights LOADED successfully\n",
            "^C\n",
            "Loading model: ../trained_models/erfnet.py\n",
            "Loading weights: ../trained_models/erfnet_pretrained.pth\n",
            "Model and weights LOADED successfully\n",
            "AUPRC score: 0.2570842545979514\n",
            "FPR@TPR95: 95.82944394908544\n",
            "Temperature : 1.0\n"
          ]
        }
      ],
      "source": [
        "# Inference on LostAndFound\n",
        "%cd /content/AnomalySegmentation_CourseProjectBaseCode/eval\n",
        "!python evalAnomaly.py  --input '/content/AnomalySegmentation_CourseProjectBaseCode/Validation_Dataset/FS_LostFound_full/images/*.png' --method maxLogit\n",
        "!python evalAnomaly.py  --input '/content/AnomalySegmentation_CourseProjectBaseCode/Validation_Dataset/FS_LostFound_full/images/*.png' --method maxEntr\n",
        "!python evalAnomaly.py  --input '/content/AnomalySegmentation_CourseProjectBaseCode/Validation_Dataset/FS_LostFound_full/images/*.png' --method msp\n",
        "\n",
        "\n"
      ]
    },
    {
      "cell_type": "code",
      "execution_count": 3,
      "metadata": {
        "id": "wNWhMOq0tF_P",
        "colab": {
          "base_uri": "https://localhost:8080/"
        },
        "outputId": "52dde5e1-aed4-46d7-b1f7-f7424791916b"
      },
      "outputs": [
        {
          "output_type": "stream",
          "name": "stdout",
          "text": [
            "Loading model: ../trained_models/erfnet.py\n",
            "Loading weights: ../trained_models/erfnet_pretrained.pth\n",
            "Model and weights LOADED successfully\n",
            "AUPRC score: 8.707969189060414\n",
            "FPR@TPR95: 93.76407140544615\n",
            "Temperature : 1.0\n",
            "Loading model: ../trained_models/erfnet.py\n",
            "Loading weights: ../trained_models/erfnet_pretrained.pth\n",
            "Model and weights LOADED successfully\n",
            "AUPRC score: 9.427066386288296\n",
            "FPR@TPR95: 95.30102648970976\n",
            "Temperature : 1.0\n",
            "Loading model: ../trained_models/erfnet.py\n",
            "Loading weights: ../trained_models/erfnet_pretrained.pth\n",
            "Model and weights LOADED successfully\n",
            "AUPRC score: 9.106994287519719\n",
            "FPR@TPR95: 95.31258807669772\n",
            "Temperature : 1.0\n"
          ]
        }
      ],
      "source": [
        "# Inference on RoadAnomaly\n",
        "!python evalAnomaly.py --input '/content/AnomalySegmentation_CourseProjectBaseCode/Validation_Dataset/RoadAnomaly/images/*.jpg' --method maxLogit\n",
        "!python evalAnomaly.py --input '/content/AnomalySegmentation_CourseProjectBaseCode/Validation_Dataset/RoadAnomaly/images/*.jpg' --method msp\n",
        "!python evalAnomaly.py --input '/content/AnomalySegmentation_CourseProjectBaseCode/Validation_Dataset/RoadAnomaly/images/*.jpg' --method maxEntr\n"
      ]
    },
    {
      "cell_type": "code",
      "source": [
        "# Inference on FS Static\n",
        "%cd /content/AnomalySegmentation_CourseProjectBaseCode/eval\n",
        "!python evalAnomaly.py --input '/content/AnomalySegmentation_CourseProjectBaseCode/Validation_Dataset/fs_static/images/*.jpg' --method maxLogit\n",
        "!python evalAnomaly.py --input '/content/AnomalySegmentation_CourseProjectBaseCode/Validation_Dataset/fs_static/images/*.jpg' --method msp\n",
        "!python evalAnomaly.py --input '/content/AnomalySegmentation_CourseProjectBaseCode/Validation_Dataset/fs_static/images/*.jpg' --method maxEntr\n"
      ],
      "metadata": {
        "id": "PlAP0iZwSjx8",
        "colab": {
          "base_uri": "https://localhost:8080/"
        },
        "outputId": "46da94c0-2695-463f-c8de-b8cc6e2c261d"
      },
      "execution_count": 4,
      "outputs": [
        {
          "output_type": "stream",
          "name": "stdout",
          "text": [
            "/content/AnomalySegmentation_CourseProjectBaseCode/eval\n",
            "Loading model: ../trained_models/erfnet.py\n",
            "Loading weights: ../trained_models/erfnet_pretrained.pth\n",
            "Model and weights LOADED successfully\n",
            "AUPRC score: 1.6452745799172535\n",
            "FPR@TPR95: 96.46147905099696\n",
            "Temperature : 1.0\n",
            "Loading model: ../trained_models/erfnet.py\n",
            "Loading weights: ../trained_models/erfnet_pretrained.pth\n",
            "Model and weights LOADED successfully\n",
            "AUPRC score: 1.9816943206525974\n",
            "FPR@TPR95: 95.25857464352967\n",
            "Temperature : 1.0\n",
            "Loading model: ../trained_models/erfnet.py\n",
            "Loading weights: ../trained_models/erfnet_pretrained.pth\n",
            "Model and weights LOADED successfully\n",
            "AUPRC score: 1.952656649203596\n",
            "FPR@TPR95: 94.05240921567987\n",
            "Temperature : 1.0\n"
          ]
        }
      ]
    },
    {
      "cell_type": "code",
      "source": [
        "# Inference on RO21\n",
        "%cd /content/AnomalySegmentation_CourseProjectBaseCode/eval\n",
        "!python evalAnomaly.py --input '/content/AnomalySegmentation_CourseProjectBaseCode/Validation_Dataset/RoadObsticle21/images/*.webp' --method maxLogit\n",
        "!python evalAnomaly.py --input '/content/AnomalySegmentation_CourseProjectBaseCode/Validation_Dataset/RoadObsticle21/images/*.webp' --method msp\n",
        "!python evalAnomaly.py --input '/content/AnomalySegmentation_CourseProjectBaseCode/Validation_Dataset/RoadObsticle21/images/*.webp' --method maxEntr\n"
      ],
      "metadata": {
        "id": "NMRSDNCNSkdx",
        "colab": {
          "base_uri": "https://localhost:8080/"
        },
        "outputId": "637161e1-dbc5-47cf-9e50-966701a30cb8"
      },
      "execution_count": 5,
      "outputs": [
        {
          "output_type": "stream",
          "name": "stdout",
          "text": [
            "/content/AnomalySegmentation_CourseProjectBaseCode/eval\n",
            "Loading model: ../trained_models/erfnet.py\n",
            "Loading weights: ../trained_models/erfnet_pretrained.pth\n",
            "Model and weights LOADED successfully\n",
            "AUPRC score: 1.1526359079646\n",
            "FPR@TPR95: 86.81554178571635\n",
            "Temperature : 1.0\n",
            "Loading model: ../trained_models/erfnet.py\n",
            "Loading weights: ../trained_models/erfnet_pretrained.pth\n",
            "Model and weights LOADED successfully\n",
            "AUPRC score: 0.7207947449989646\n",
            "FPR@TPR95: 94.76850829026144\n",
            "Temperature : 1.0\n",
            "Loading model: ../trained_models/erfnet.py\n",
            "Loading weights: ../trained_models/erfnet_pretrained.pth\n",
            "Model and weights LOADED successfully\n",
            "AUPRC score: 0.8318295246037397\n",
            "FPR@TPR95: 94.08380013239386\n",
            "Temperature : 1.0\n"
          ]
        }
      ]
    },
    {
      "cell_type": "code",
      "source": [
        "# Inference on RA21\n",
        "%cd /content/AnomalySegmentation_CourseProjectBaseCode/eval\n",
        "!python evalAnomaly.py --input '/content/AnomalySegmentation_CourseProjectBaseCode/Validation_Dataset/RoadAnomaly21/images/*.png' --method maxLogit\n",
        "!python evalAnomaly.py --input '/content/AnomalySegmentation_CourseProjectBaseCode/Validation_Dataset/RoadAnomaly21/images/*.png' --method msp\n",
        "!python evalAnomaly.py --input '/content/AnomalySegmentation_CourseProjectBaseCode/Validation_Dataset/RoadAnomaly21/images/*.png' --method maxEntr\n"
      ],
      "metadata": {
        "id": "spJVhbWoSpM0",
        "colab": {
          "base_uri": "https://localhost:8080/"
        },
        "outputId": "f1123a8f-0b34-418a-c191-23703f4a482f"
      },
      "execution_count": 6,
      "outputs": [
        {
          "output_type": "stream",
          "name": "stdout",
          "text": [
            "/content/AnomalySegmentation_CourseProjectBaseCode/eval\n",
            "Loading model: ../trained_models/erfnet.py\n",
            "Loading weights: ../trained_models/erfnet_pretrained.pth\n",
            "Model and weights LOADED successfully\n",
            "AUPRC score: 13.19344041745433\n",
            "FPR@TPR95: 97.01505536399301\n",
            "Temperature : 1.0\n",
            "Loading model: ../trained_models/erfnet.py\n",
            "Loading weights: ../trained_models/erfnet_pretrained.pth\n",
            "Model and weights LOADED successfully\n",
            "AUPRC score: 14.58540054434633\n",
            "FPR@TPR95: 95.09016002276572\n",
            "Temperature : 1.0\n",
            "Loading model: ../trained_models/erfnet.py\n",
            "Loading weights: ../trained_models/erfnet_pretrained.pth\n",
            "Model and weights LOADED successfully\n",
            "AUPRC score: 14.309849930559887\n",
            "FPR@TPR95: 96.71604360965756\n",
            "Temperature : 1.0\n"
          ]
        }
      ]
    },
    {
      "cell_type": "code",
      "source": [
        "#mIoU for MSP with temperature\n",
        "\n",
        "%cd /content/AnomalySegmentation_CourseProjectBaseCode/eval\n",
        "!python eval_iou.py --datadir /content/AnomalySegmentation_CourseProjectBaseCode/Cityscapes --subset val --method msp --temperature 0.5\n",
        "!python eval_iou.py --datadir /content/AnomalySegmentation_CourseProjectBaseCode/Cityscapes --subset val --method msp --temperature 0.75\n",
        "!python eval_iou.py --datadir /content/AnomalySegmentation_CourseProjectBaseCode/Cityscapes --subset val --method msp --temperature 1.1\n",
        "\n"
      ],
      "metadata": {
        "id": "x1eQO8F9w6jJ",
        "colab": {
          "base_uri": "https://localhost:8080/"
        },
        "outputId": "e1a35744-bca9-4695-c6d6-92bee8825b59"
      },
      "execution_count": 7,
      "outputs": [
        {
          "output_type": "stream",
          "name": "stdout",
          "text": [
            "/content/AnomalySegmentation_CourseProjectBaseCode/eval\n",
            "Loading model: ../trained_models/erfnet.py\n",
            "Loading weights: ../trained_models/erfnet_pretrained.pth\n",
            "Model and weights LOADED successfully\n",
            "/content/AnomalySegmentation_CourseProjectBaseCode/Cityscapes/leftImg8bit/val /content/AnomalySegmentation_CourseProjectBaseCode/Cityscapes/gtFine/val\n",
            "/usr/local/lib/python3.10/dist-packages/torch/utils/data/dataloader.py:557: UserWarning: This DataLoader will create 4 worker processes in total. Our suggested max number of worker in current system is 2, which is smaller than what this DataLoader is going to create. Please be aware that excessive worker creation might get DataLoader running slow or even freeze, lower the worker number to avoid potential slowness/freeze if necessary.\n",
            "  warnings.warn(_create_warning_msg(\n",
            "---------------------------------------\n",
            "Took  78.5946273803711 seconds\n",
            "MEAN IoU: 72.20% with method: msp with temperature: 0.5\n",
            "Loading model: ../trained_models/erfnet.py\n",
            "Loading weights: ../trained_models/erfnet_pretrained.pth\n",
            "Model and weights LOADED successfully\n",
            "/content/AnomalySegmentation_CourseProjectBaseCode/Cityscapes/leftImg8bit/val /content/AnomalySegmentation_CourseProjectBaseCode/Cityscapes/gtFine/val\n",
            "/usr/local/lib/python3.10/dist-packages/torch/utils/data/dataloader.py:557: UserWarning: This DataLoader will create 4 worker processes in total. Our suggested max number of worker in current system is 2, which is smaller than what this DataLoader is going to create. Please be aware that excessive worker creation might get DataLoader running slow or even freeze, lower the worker number to avoid potential slowness/freeze if necessary.\n",
            "  warnings.warn(_create_warning_msg(\n",
            "---------------------------------------\n",
            "Took  78.28874945640564 seconds\n",
            "MEAN IoU: 72.20% with method: msp with temperature: 0.75\n",
            "Loading model: ../trained_models/erfnet.py\n",
            "Loading weights: ../trained_models/erfnet_pretrained.pth\n",
            "Model and weights LOADED successfully\n",
            "/content/AnomalySegmentation_CourseProjectBaseCode/Cityscapes/leftImg8bit/val /content/AnomalySegmentation_CourseProjectBaseCode/Cityscapes/gtFine/val\n",
            "/usr/local/lib/python3.10/dist-packages/torch/utils/data/dataloader.py:557: UserWarning: This DataLoader will create 4 worker processes in total. Our suggested max number of worker in current system is 2, which is smaller than what this DataLoader is going to create. Please be aware that excessive worker creation might get DataLoader running slow or even freeze, lower the worker number to avoid potential slowness/freeze if necessary.\n",
            "  warnings.warn(_create_warning_msg(\n",
            "---------------------------------------\n",
            "Took  78.56689524650574 seconds\n",
            "MEAN IoU: 72.20% with method: msp with temperature: 1.1\n"
          ]
        }
      ]
    },
    {
      "cell_type": "code",
      "source": [
        "#mIoU found best temperature\n",
        "%cd /content/AnomalySegmentation_CourseProjectBaseCode/eval\n",
        "!python eval_iou.py --datadir /content/AnomalySegmentation_CourseProjectBaseCode/Cityscapes --subset val --method msp --temperature -1\n",
        "\n"
      ],
      "metadata": {
        "id": "-fuPyqn43XIs",
        "colab": {
          "base_uri": "https://localhost:8080/"
        },
        "outputId": "e09eacb6-3e84-4802-b68a-18672eca89aa"
      },
      "execution_count": 8,
      "outputs": [
        {
          "output_type": "stream",
          "name": "stdout",
          "text": [
            "/content/AnomalySegmentation_CourseProjectBaseCode/eval\n",
            "Loading model: ../trained_models/erfnet.py\n",
            "Loading weights: ../trained_models/erfnet_pretrained.pth\n",
            "Model and weights LOADED successfully\n",
            "/content/AnomalySegmentation_CourseProjectBaseCode/Cityscapes/leftImg8bit/val /content/AnomalySegmentation_CourseProjectBaseCode/Cityscapes/gtFine/val\n",
            "/usr/local/lib/python3.10/dist-packages/torch/utils/data/dataloader.py:557: UserWarning: This DataLoader will create 4 worker processes in total. Our suggested max number of worker in current system is 2, which is smaller than what this DataLoader is going to create. Please be aware that excessive worker creation might get DataLoader running slow or even freeze, lower the worker number to avoid potential slowness/freeze if necessary.\n",
            "  warnings.warn(_create_warning_msg(\n",
            "Evaluating with temperature = 0.01\n",
            "Took 78.26234793663025 seconds\n",
            "Mean IoU with temperature = 0.01: 0.7220228521599736\n",
            "Evaluating with temperature = 0.04\n",
            "Took 78.04788541793823 seconds\n",
            "Mean IoU with temperature = 0.04: 0.7220228890272735\n",
            "Evaluating with temperature = 0.05\n",
            "Took 76.6014392375946 seconds\n",
            "Mean IoU with temperature = 0.05: 0.7220229627099813\n",
            "Evaluating with temperature = 0.08\n",
            "Took 77.07203578948975 seconds\n",
            "Mean IoU with temperature = 0.08: 0.7220228481231047\n",
            "Evaluating with temperature = 0.1\n",
            "Took 77.92050433158875 seconds\n",
            "Mean IoU with temperature = 0.1: 0.7220228521884419\n",
            "MEAN IoU: 72.20% with method: msp with temperature: 0.05\n",
            "Best temperature found: 0.05\n",
            "---------------------------------------\n",
            "Traceback (most recent call last):\n",
            "  File \"/content/AnomalySegmentation_CourseProjectBaseCode/eval/eval_iou.py\", line 253, in <module>\n",
            "    main(parser.parse_args())\n",
            "  File \"/content/AnomalySegmentation_CourseProjectBaseCode/eval/eval_iou.py\", line 124, in main\n",
            "    print(\"Took \", time.time()-start, \"seconds\")\n",
            "UnboundLocalError: local variable 'start' referenced before assignment\n"
          ]
        }
      ]
    },
    {
      "cell_type": "code",
      "source": [
        "# Inference on LostAndFound with Temperature\n",
        "%cd /content/AnomalySegmentation_CourseProjectBaseCode/eval\n",
        "\n",
        "!python evalAnomaly.py  --input '/content/AnomalySegmentation_CourseProjectBaseCode/Validation_Dataset/FS_LostFound_full/images/*.png' --method msp --temperature 0.5\n",
        "!python evalAnomaly.py  --input '/content/AnomalySegmentation_CourseProjectBaseCode/Validation_Dataset/FS_LostFound_full/images/*.png' --method msp --temperature 0.75\n",
        "!python evalAnomaly.py  --input '/content/AnomalySegmentation_CourseProjectBaseCode/Validation_Dataset/FS_LostFound_full/images/*.png' --method msp --temperature 1.1"
      ],
      "metadata": {
        "id": "FiFPZNb5SdiC",
        "colab": {
          "base_uri": "https://localhost:8080/"
        },
        "outputId": "609590c6-d5cb-47a2-d38f-6b412b66b69a"
      },
      "execution_count": 9,
      "outputs": [
        {
          "output_type": "stream",
          "name": "stdout",
          "text": [
            "/content/AnomalySegmentation_CourseProjectBaseCode/eval\n",
            "Loading model: ../trained_models/erfnet.py\n",
            "Loading weights: ../trained_models/erfnet_pretrained.pth\n",
            "Model and weights LOADED successfully\n",
            "AUPRC score: 0.26835078597438317\n",
            "FPR@TPR95: 95.40641879705322\n",
            "Temperature : 0.5\n",
            "Loading model: ../trained_models/erfnet.py\n",
            "Loading weights: ../trained_models/erfnet_pretrained.pth\n",
            "Model and weights LOADED successfully\n",
            "AUPRC score: 0.2623923811001717\n",
            "FPR@TPR95: 95.61697250076462\n",
            "Temperature : 0.75\n",
            "Loading model: ../trained_models/erfnet.py\n",
            "Loading weights: ../trained_models/erfnet_pretrained.pth\n",
            "Model and weights LOADED successfully\n",
            "AUPRC score: 0.2551102227647196\n",
            "FPR@TPR95: 95.9132331093414\n",
            "Temperature : 1.1\n"
          ]
        }
      ]
    },
    {
      "cell_type": "code",
      "source": [
        "# Inference on Road Anomaly with temperature\n",
        "\n",
        "%cd /content/AnomalySegmentation_CourseProjectBaseCode/eval\n",
        "!python evalAnomaly.py --input '/content/AnomalySegmentation_CourseProjectBaseCode/Validation_Dataset/RoadAnomaly/images/*.jpg' --method msp --temperature 0.5\n",
        "!python evalAnomaly.py --input '/content/AnomalySegmentation_CourseProjectBaseCode/Validation_Dataset/RoadAnomaly/images/*.jpg' --method msp --temperature 0.75\n",
        "!python evalAnomaly.py --input '/content/AnomalySegmentation_CourseProjectBaseCode/Validation_Dataset/RoadAnomaly/images/*.jpg' --method msp --temperature 1.1\n"
      ],
      "metadata": {
        "id": "fwcPK-JnSHj5",
        "colab": {
          "base_uri": "https://localhost:8080/"
        },
        "outputId": "73f78430-f628-45ce-97a4-c5ca82d671f0"
      },
      "execution_count": 10,
      "outputs": [
        {
          "output_type": "stream",
          "name": "stdout",
          "text": [
            "/content/AnomalySegmentation_CourseProjectBaseCode/eval\n",
            "Loading model: ../trained_models/erfnet.py\n",
            "Loading weights: ../trained_models/erfnet_pretrained.pth\n",
            "Model and weights LOADED successfully\n",
            "AUPRC score: 9.606395469533675\n",
            "FPR@TPR95: 95.1719109696391\n",
            "Temperature : 0.5\n",
            "Loading model: ../trained_models/erfnet.py\n",
            "Loading weights: ../trained_models/erfnet_pretrained.pth\n",
            "Model and weights LOADED successfully\n",
            "AUPRC score: 9.509436292097776\n",
            "FPR@TPR95: 95.24391538557559\n",
            "Temperature : 0.75\n",
            "Loading model: ../trained_models/erfnet.py\n",
            "Loading weights: ../trained_models/erfnet_pretrained.pth\n",
            "Model and weights LOADED successfully\n",
            "AUPRC score: 9.397905876023078\n",
            "FPR@TPR95: 95.31940378289363\n",
            "Temperature : 1.1\n"
          ]
        }
      ]
    },
    {
      "cell_type": "code",
      "source": [
        "# Inference on FS Static with temperature\n",
        "%cd /content/AnomalySegmentation_CourseProjectBaseCode/eval\n",
        "!python evalAnomaly.py --input '/content/AnomalySegmentation_CourseProjectBaseCode/Validation_Dataset/fs_static/images/*.jpg' --method msp --temperature 0.5\n",
        "!python evalAnomaly.py --input '/content/AnomalySegmentation_CourseProjectBaseCode/Validation_Dataset/fs_static/images/*.jpg' --method msp --temperature 0.75\n",
        "!python evalAnomaly.py --input '/content/AnomalySegmentation_CourseProjectBaseCode/Validation_Dataset/fs_static/images/*.jpg' --method msp --temperature 1.1\n"
      ],
      "metadata": {
        "id": "m2VZ89XHSJpr",
        "colab": {
          "base_uri": "https://localhost:8080/"
        },
        "outputId": "58140322-ff64-4b35-d9e1-b1c8a99c8f81"
      },
      "execution_count": 11,
      "outputs": [
        {
          "output_type": "stream",
          "name": "stdout",
          "text": [
            "/content/AnomalySegmentation_CourseProjectBaseCode/eval\n",
            "Loading model: ../trained_models/erfnet.py\n",
            "Loading weights: ../trained_models/erfnet_pretrained.pth\n",
            "Model and weights LOADED successfully\n",
            "AUPRC score: 2.0169917414721255\n",
            "FPR@TPR95: 95.18328144291827\n",
            "Temperature : 0.5\n",
            "Loading model: ../trained_models/erfnet.py\n",
            "Loading weights: ../trained_models/erfnet_pretrained.pth\n",
            "Model and weights LOADED successfully\n",
            "AUPRC score: 1.996841575884731\n",
            "FPR@TPR95: 95.22666963125796\n",
            "Temperature : 0.75\n",
            "Loading model: ../trained_models/erfnet.py\n",
            "Loading weights: ../trained_models/erfnet_pretrained.pth\n",
            "Model and weights LOADED successfully\n",
            "AUPRC score: 1.976527422147932\n",
            "FPR@TPR95: 95.267421741275\n",
            "Temperature : 1.1\n"
          ]
        }
      ]
    },
    {
      "cell_type": "code",
      "source": [
        "# Inference on RA21 with temperature\n",
        "%cd /content/AnomalySegmentation_CourseProjectBaseCode/eval\n",
        "!python evalAnomaly.py --input '/content/AnomalySegmentation_CourseProjectBaseCode/Validation_Dataset/RoadAnomaly21/images/*.png' --method msp --temperature 0.5\n",
        "!python evalAnomaly.py --input '/content/AnomalySegmentation_CourseProjectBaseCode/Validation_Dataset/RoadAnomaly21/images/*.png' --method msp --temperature 0.75\n",
        "!python evalAnomaly.py --input '/content/AnomalySegmentation_CourseProjectBaseCode/Validation_Dataset/RoadAnomaly21/images/*.png' --method msp --temperature 1.1\n"
      ],
      "metadata": {
        "id": "Ue43lB3qSOD6",
        "colab": {
          "base_uri": "https://localhost:8080/"
        },
        "outputId": "d6df5f4d-29ce-4247-c54c-60bce4c76063"
      },
      "execution_count": 12,
      "outputs": [
        {
          "output_type": "stream",
          "name": "stdout",
          "text": [
            "/content/AnomalySegmentation_CourseProjectBaseCode/eval\n",
            "Loading model: ../trained_models/erfnet.py\n",
            "Loading weights: ../trained_models/erfnet_pretrained.pth\n",
            "Model and weights LOADED successfully\n",
            "AUPRC score: 14.674875793952804\n",
            "FPR@TPR95: 95.05226931472349\n",
            "Temperature : 0.5\n",
            "Loading model: ../trained_models/erfnet.py\n",
            "Loading weights: ../trained_models/erfnet_pretrained.pth\n",
            "Model and weights LOADED successfully\n",
            "AUPRC score: 14.626341894497783\n",
            "FPR@TPR95: 95.07230443138135\n",
            "Temperature : 0.75\n",
            "Loading model: ../trained_models/erfnet.py\n",
            "Loading weights: ../trained_models/erfnet_pretrained.pth\n",
            "Model and weights LOADED successfully\n",
            "AUPRC score: 14.570468920401922\n",
            "FPR@TPR95: 95.09765935900602\n",
            "Temperature : 1.1\n"
          ]
        }
      ]
    },
    {
      "cell_type": "code",
      "source": [
        "# Inference on RO21 with temperature\n",
        "%cd /content/AnomalySegmentation_CourseProjectBaseCode/eval\n",
        "!python evalAnomaly.py --input '/content/AnomalySegmentation_CourseProjectBaseCode/Validation_Dataset/RoadObsticle21/images/*.webp' --method msp --temperature 0.5\n",
        "!python evalAnomaly.py --input '/content/AnomalySegmentation_CourseProjectBaseCode/Validation_Dataset/RoadObsticle21/images/*.webp' --method msp --temperature 0.75\n",
        "!python evalAnomaly.py --input '/content/AnomalySegmentation_CourseProjectBaseCode/Validation_Dataset/RoadObsticle21/images/*.webp' --method msp --temperature 1.1\n"
      ],
      "metadata": {
        "id": "_cZAo0k9SQn1",
        "colab": {
          "base_uri": "https://localhost:8080/"
        },
        "outputId": "4dd215a1-075f-4cea-ca51-8e3edc468a16"
      },
      "execution_count": 15,
      "outputs": [
        {
          "output_type": "stream",
          "name": "stdout",
          "text": [
            "/content/AnomalySegmentation_CourseProjectBaseCode/eval\n",
            "Loading model: ../trained_models/erfnet.py\n",
            "Loading weights: ../trained_models/erfnet_pretrained.pth\n",
            "Model and weights LOADED successfully\n",
            "AUPRC score: 0.6988481327758932\n",
            "FPR@TPR95: 94.88563972843927\n",
            "Temperature : 0.5\n",
            "Loading model: ../trained_models/erfnet.py\n",
            "Loading weights: ../trained_models/erfnet_pretrained.pth\n",
            "Model and weights LOADED successfully\n",
            "AUPRC score: 0.7100454943374215\n",
            "FPR@TPR95: 94.8268520425271\n",
            "Temperature : 0.75\n",
            "Loading model: ../trained_models/erfnet.py\n",
            "Loading weights: ../trained_models/erfnet_pretrained.pth\n",
            "Model and weights LOADED successfully\n",
            "AUPRC score: 0.724889939664395\n",
            "FPR@TPR95: 94.74540607588997\n",
            "Temperature : 1.1\n"
          ]
        }
      ]
    },
    {
      "cell_type": "code",
      "source": [
        "# Inference on LostAndFound with best temperature\n",
        "%cd /content/AnomalySegmentation_CourseProjectBaseCode/eval\n",
        "!python evalAnomaly.py  --input '/content/AnomalySegmentation_CourseProjectBaseCode/Validation_Dataset/FS_LostFound_full/images/*.png' --method msp --temperature -1.0\n",
        "\n",
        "# Inference on Road Anomaly with best temperature\n",
        "%cd /content/AnomalySegmentation_CourseProjectBaseCode/eval\n",
        "!python evalAnomaly.py --input '/content/AnomalySegmentation_CourseProjectBaseCode/Validation_Dataset/RoadAnomaly/images/*.jpg' --method msp --temperature -1.0\n",
        "\n",
        "# Inference on FS Static with best temperature\n",
        "%cd /content/AnomalySegmentation_CourseProjectBaseCode/eval\n",
        "!python evalAnomaly.py --input '/content/AnomalySegmentation_CourseProjectBaseCode/Validation_Dataset/fs_static/images/*.jpg' --method msp --temperature -1.0\n",
        "\n",
        "# Inference on RA21 with best temperature\n",
        "%cd /content/AnomalySegmentation_CourseProjectBaseCode/eval\n",
        "!python evalAnomaly.py --input '/content/AnomalySegmentation_CourseProjectBaseCode/Validation_Dataset/RoadAnomaly21/images/*.png' --method msp --temperature -1.0\n",
        "\n",
        "# Inference on RO21 with best temperature\n",
        "%cd /content/AnomalySegmentation_CourseProjectBaseCode/eval\n",
        "!python evalAnomaly.py --input '/content/AnomalySegmentation_CourseProjectBaseCode/Validation_Dataset/RoadObsticle21/images/*.webp' --method msp --temperature -1.0\n",
        "\n"
      ],
      "metadata": {
        "colab": {
          "base_uri": "https://localhost:8080/"
        },
        "id": "Em5CWiUuCcXY",
        "outputId": "71daac96-b3f9-4acd-8dce-8b0f725dbf23"
      },
      "execution_count": 1,
      "outputs": [
        {
          "output_type": "stream",
          "name": "stdout",
          "text": [
            "/content/AnomalySegmentation_CourseProjectBaseCode/eval\n",
            "True\n",
            "Finding best temperature scaling \n",
            "Loading model: ../trained_models/erfnet.py\n",
            "Loading weights: ../trained_models/erfnet_pretrained.pth\n",
            "Model and weights LOADED successfully\n",
            "AUPRC score: 0.2824879175830879\n",
            "FPR@TPR95: 95.00862002695666\n",
            "Temperature : 0.01\n",
            "Evaluation with Temperature=0.01:\n",
            "AUPRC score: 0.2824879175830879\n",
            "FPR@TPR95: 95.00862002695666\n",
            "Loading model: ../trained_models/erfnet.py\n",
            "Loading weights: ../trained_models/erfnet_pretrained.pth\n",
            "Model and weights LOADED successfully\n",
            "AUPRC score: 0.28151076888684107\n",
            "FPR@TPR95: 95.03349554687122\n",
            "Temperature : 0.04\n",
            "Evaluation with Temperature=0.04:\n",
            "AUPRC score: 0.28151076888684107\n",
            "FPR@TPR95: 95.03349554687122\n",
            "Loading model: ../trained_models/erfnet.py\n",
            "Loading weights: ../trained_models/erfnet_pretrained.pth\n",
            "Model and weights LOADED successfully\n",
            "AUPRC score: 0.2811951867361597\n",
            "FPR@TPR95: 95.04207511404417\n",
            "Temperature : 0.05\n",
            "Evaluation with Temperature=0.05:\n",
            "AUPRC score: 0.2811951867361597\n",
            "FPR@TPR95: 95.04207511404417\n",
            "Loading model: ../trained_models/erfnet.py\n",
            "Loading weights: ../trained_models/erfnet_pretrained.pth\n",
            "Model and weights LOADED successfully\n",
            "AUPRC score: 0.2802323739218762\n",
            "FPR@TPR95: 95.06645602763322\n",
            "Temperature : 0.08\n",
            "Evaluation with Temperature=0.08:\n",
            "AUPRC score: 0.2802323739218762\n",
            "FPR@TPR95: 95.06645602763322\n",
            "Loading model: ../trained_models/erfnet.py\n",
            "Loading weights: ../trained_models/erfnet_pretrained.pth\n",
            "Model and weights LOADED successfully\n",
            "AUPRC score: 0.2796080229439447\n",
            "FPR@TPR95: 95.08309544979863\n",
            "Temperature : 0.1\n",
            "Evaluation with Temperature=0.1:\n",
            "AUPRC score: 0.2796080229439447\n",
            "FPR@TPR95: 95.08309544979863\n",
            "Best temperature found: 0.01\n",
            "Corresponding AUPRC score: 0.2824879175830879\n",
            "Corresponding FPR95 score: 95.00862002695666\n",
            "/content/AnomalySegmentation_CourseProjectBaseCode/eval\n",
            "True\n",
            "Finding best temperature scaling \n",
            "Loading model: ../trained_models/erfnet.py\n",
            "Loading weights: ../trained_models/erfnet_pretrained.pth\n",
            "Model and weights LOADED successfully\n",
            "AUPRC score: 9.844093288918861\n",
            "FPR@TPR95: 95.00389395100443\n",
            "Temperature : 0.01\n",
            "Evaluation with Temperature=0.01:\n",
            "AUPRC score: 9.844093288918861\n",
            "FPR@TPR95: 95.00389395100443\n",
            "Loading model: ../trained_models/erfnet.py\n",
            "Loading weights: ../trained_models/erfnet_pretrained.pth\n",
            "Model and weights LOADED successfully\n",
            "AUPRC score: 9.827387235131384\n",
            "FPR@TPR95: 95.01478515259494\n",
            "Temperature : 0.04\n",
            "Evaluation with Temperature=0.04:\n",
            "AUPRC score: 9.827387235131384\n",
            "FPR@TPR95: 95.01478515259494\n",
            "Loading model: ../trained_models/erfnet.py\n",
            "Loading weights: ../trained_models/erfnet_pretrained.pth\n",
            "Model and weights LOADED successfully\n",
            "AUPRC score: 9.822011292968885\n",
            "FPR@TPR95: 95.01864859022274\n",
            "Temperature : 0.05\n",
            "Evaluation with Temperature=0.05:\n",
            "AUPRC score: 9.822011292968885\n",
            "FPR@TPR95: 95.01864859022274\n",
            "Loading model: ../trained_models/erfnet.py\n",
            "Loading weights: ../trained_models/erfnet_pretrained.pth\n",
            "Model and weights LOADED successfully\n",
            "AUPRC score: 9.805895796739208\n",
            "FPR@TPR95: 95.02984236810737\n",
            "Temperature : 0.08\n",
            "Evaluation with Temperature=0.08:\n",
            "AUPRC score: 9.805895796739208\n",
            "FPR@TPR95: 95.02984236810737\n",
            "Loading model: ../trained_models/erfnet.py\n",
            "Loading weights: ../trained_models/erfnet_pretrained.pth\n",
            "Model and weights LOADED successfully\n",
            "AUPRC score: 9.79528127455436\n",
            "FPR@TPR95: 95.03715569769395\n",
            "Temperature : 0.1\n",
            "Evaluation with Temperature=0.1:\n",
            "AUPRC score: 9.79528127455436\n",
            "FPR@TPR95: 95.03715569769395\n",
            "Best temperature found: 0.01\n",
            "Corresponding AUPRC score: 9.844093288918861\n",
            "Corresponding FPR95 score: 95.00389395100443\n",
            "/content/AnomalySegmentation_CourseProjectBaseCode/eval\n",
            "True\n",
            "Finding best temperature scaling \n",
            "Loading model: ../trained_models/erfnet.py\n",
            "Loading weights: ../trained_models/erfnet_pretrained.pth\n",
            "Model and weights LOADED successfully\n",
            "AUPRC score: 2.081711968507275\n",
            "FPR@TPR95: 95.00524429981769\n",
            "Temperature : 0.01\n",
            "Evaluation with Temperature=0.01:\n",
            "AUPRC score: 2.081711968507275\n",
            "FPR@TPR95: 95.00524429981769\n",
            "Loading model: ../trained_models/erfnet.py\n",
            "Loading weights: ../trained_models/erfnet_pretrained.pth\n",
            "Model and weights LOADED successfully\n",
            "AUPRC score: 2.0764110662141\n",
            "FPR@TPR95: 95.02035509709515\n",
            "Temperature : 0.04\n",
            "Evaluation with Temperature=0.04:\n",
            "AUPRC score: 2.0764110662141\n",
            "FPR@TPR95: 95.02035509709515\n",
            "Loading model: ../trained_models/erfnet.py\n",
            "Loading weights: ../trained_models/erfnet_pretrained.pth\n",
            "Model and weights LOADED successfully\n",
            "AUPRC score: 2.074657999093409\n",
            "FPR@TPR95: 95.02468224307346\n",
            "Temperature : 0.05\n",
            "Evaluation with Temperature=0.05:\n",
            "AUPRC score: 2.074657999093409\n",
            "FPR@TPR95: 95.02468224307346\n",
            "Loading model: ../trained_models/erfnet.py\n",
            "Loading weights: ../trained_models/erfnet_pretrained.pth\n",
            "Model and weights LOADED successfully\n",
            "AUPRC score: 2.0696336265442046\n",
            "FPR@TPR95: 95.03863705286521\n",
            "Temperature : 0.08\n",
            "Evaluation with Temperature=0.08:\n",
            "AUPRC score: 2.0696336265442046\n",
            "FPR@TPR95: 95.03863705286521\n",
            "Loading model: ../trained_models/erfnet.py\n",
            "Loading weights: ../trained_models/erfnet_pretrained.pth\n",
            "Model and weights LOADED successfully\n",
            "AUPRC score: 2.066413179962962\n",
            "FPR@TPR95: 95.04713285140518\n",
            "Temperature : 0.1\n",
            "Evaluation with Temperature=0.1:\n",
            "AUPRC score: 2.066413179962962\n",
            "FPR@TPR95: 95.04713285140518\n",
            "Best temperature found: 0.01\n",
            "Corresponding AUPRC score: 2.081711968507275\n",
            "Corresponding FPR95 score: 95.00524429981769\n",
            "/content/AnomalySegmentation_CourseProjectBaseCode/eval\n",
            "True\n",
            "Finding best temperature scaling \n",
            "Loading model: ../trained_models/erfnet.py\n",
            "Loading weights: ../trained_models/erfnet_pretrained.pth\n",
            "Model and weights LOADED successfully\n",
            "AUPRC score: 14.801963681254804\n",
            "FPR@TPR95: 95.00175262825775\n",
            "Temperature : 0.01\n",
            "Evaluation with Temperature=0.01:\n",
            "AUPRC score: 14.801963681254804\n",
            "FPR@TPR95: 95.00175262825775\n",
            "Loading model: ../trained_models/erfnet.py\n",
            "Loading weights: ../trained_models/erfnet_pretrained.pth\n",
            "Model and weights LOADED successfully\n",
            "AUPRC score: 14.791942951027295\n",
            "FPR@TPR95: 95.00608297645593\n",
            "Temperature : 0.04\n",
            "Evaluation with Temperature=0.04:\n",
            "AUPRC score: 14.791942951027295\n",
            "FPR@TPR95: 95.00608297645593\n",
            "Loading model: ../trained_models/erfnet.py\n",
            "Loading weights: ../trained_models/erfnet_pretrained.pth\n",
            "Model and weights LOADED successfully\n",
            "AUPRC score: 14.788505809804231\n",
            "FPR@TPR95: 95.00737490016314\n",
            "Temperature : 0.05\n",
            "Evaluation with Temperature=0.05:\n",
            "AUPRC score: 14.788505809804231\n",
            "FPR@TPR95: 95.00737490016314\n",
            "Loading model: ../trained_models/erfnet.py\n",
            "Loading weights: ../trained_models/erfnet_pretrained.pth\n",
            "Model and weights LOADED successfully\n",
            "AUPRC score: 14.778815449878161\n",
            "FPR@TPR95: 95.01055485178966\n",
            "Temperature : 0.08\n",
            "Evaluation with Temperature=0.08:\n",
            "AUPRC score: 14.778815449878161\n",
            "FPR@TPR95: 95.01055485178966\n",
            "Loading model: ../trained_models/erfnet.py\n",
            "Loading weights: ../trained_models/erfnet_pretrained.pth\n",
            "Model and weights LOADED successfully\n",
            "AUPRC score: 14.772830921318564\n",
            "FPR@TPR95: 95.0125351666943\n",
            "Temperature : 0.1\n",
            "Evaluation with Temperature=0.1:\n",
            "AUPRC score: 14.772830921318564\n",
            "FPR@TPR95: 95.0125351666943\n",
            "Best temperature found: 0.01\n",
            "Corresponding AUPRC score: 14.801963681254804\n",
            "Corresponding FPR95 score: 95.00175262825775\n",
            "/content/AnomalySegmentation_CourseProjectBaseCode/eval\n",
            "True\n",
            "Finding best temperature scaling \n",
            "Loading model: ../trained_models/erfnet.py\n",
            "Loading weights: ../trained_models/erfnet_pretrained.pth\n",
            "Model and weights LOADED successfully\n",
            "AUPRC score: 0.6754492040368031\n",
            "FPR@TPR95: 94.99694471855497\n",
            "Temperature : 0.01\n",
            "Evaluation with Temperature=0.01:\n",
            "AUPRC score: 0.6754492040368031\n",
            "FPR@TPR95: 94.99694471855497\n",
            "Loading model: ../trained_models/erfnet.py\n",
            "Loading weights: ../trained_models/erfnet_pretrained.pth\n",
            "Model and weights LOADED successfully\n",
            "AUPRC score: 0.6773428644680112\n",
            "FPR@TPR95: 94.9897848852299\n",
            "Temperature : 0.04\n",
            "Evaluation with Temperature=0.04:\n",
            "AUPRC score: 0.6773428644680112\n",
            "FPR@TPR95: 94.9897848852299\n",
            "Loading model: ../trained_models/erfnet.py\n",
            "Loading weights: ../trained_models/erfnet_pretrained.pth\n",
            "Model and weights LOADED successfully\n",
            "AUPRC score: 0.6779552923082068\n",
            "FPR@TPR95: 94.98701129606962\n",
            "Temperature : 0.05\n",
            "Evaluation with Temperature=0.05:\n",
            "AUPRC score: 0.6779552923082068\n",
            "FPR@TPR95: 94.98701129606962\n",
            "Loading model: ../trained_models/erfnet.py\n",
            "Loading weights: ../trained_models/erfnet_pretrained.pth\n",
            "Model and weights LOADED successfully\n",
            "AUPRC score: 0.6795062290954693\n",
            "FPR@TPR95: 94.98070889096823\n",
            "Temperature : 0.08\n",
            "Evaluation with Temperature=0.08:\n",
            "AUPRC score: 0.6795062290954693\n",
            "FPR@TPR95: 94.98070889096823\n",
            "Loading model: ../trained_models/erfnet.py\n",
            "Loading weights: ../trained_models/erfnet_pretrained.pth\n",
            "Model and weights LOADED successfully\n",
            "AUPRC score: 0.6803720782066071\n",
            "FPR@TPR95: 94.97776322618378\n",
            "Temperature : 0.1\n",
            "Evaluation with Temperature=0.1:\n",
            "AUPRC score: 0.6803720782066071\n",
            "FPR@TPR95: 94.97776322618378\n",
            "Best temperature found: 0.1\n",
            "Corresponding AUPRC score: 0.6803720782066071\n",
            "Corresponding FPR95 score: 94.97776322618378\n"
          ]
        }
      ]
    }
  ],
  "metadata": {
    "colab": {
      "provenance": [],
      "gpuType": "T4",
      "mount_file_id": "1TynVnWTHlzdtKNivYh81TSCAAm7oGdIe",
      "authorship_tag": "ABX9TyNSiAM3v/PYm7Z3T1OorJ2E",
      "include_colab_link": true
    },
    "kernelspec": {
      "display_name": "Python 3",
      "name": "python3"
    },
    "language_info": {
      "name": "python"
    },
    "accelerator": "GPU"
  },
  "nbformat": 4,
  "nbformat_minor": 0
}